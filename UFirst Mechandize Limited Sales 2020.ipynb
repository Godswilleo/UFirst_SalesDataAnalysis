{
 "cells": [
  {
   "cell_type": "markdown",
   "id": "63925a6d",
   "metadata": {},
   "source": [
    "# UFirst Mechandize Limited\n",
    "## Sales Analysis for the Year 2020\n",
    "\n",
    "Analyzed by - Godswill Enaohwo (Data Analyst)"
   ]
  },
  {
   "cell_type": "markdown",
   "id": "1e703601",
   "metadata": {},
   "source": [
    "## INTRODUCTION"
   ]
  },
  {
   "cell_type": "markdown",
   "id": "6acb218b",
   "metadata": {},
   "source": [
    "At the end of 2020, The sales data was made available for analysis. This is so that insights can be generated to guide management decision for the coming year.\n",
    "\n",
    "The dataset contains records of orders made, amounts involved and the record of fulfilment of the orders.\n",
    "\n",
    "Below are the explanation of the data each column holds\n",
    "\n",
    "- **Order** - The order number. It is a distinct number for each order\n",
    "- **Customer** -  The Customer number is a distinct number used to identify each customer\n",
    "- **Sales** - This is name of the Sales person who fulfiled the order\n",
    "- **Order.1** - This is the date the order was made\n",
    "- **Ship** - This is the day the order was shipped\n",
    "- **Order.2** -  This is the urgency of the shipment\n",
    "- **SKU** - This is the code used to identify each product sold \n",
    "- **Order.3** - The quantity of product sold\n",
    "- **Unit Sell** - unit price of products sold\n",
    "- **Discount** - Discount give for order of each product sold\n",
    "- **Shipping** - Cost of shipping of each SKU of product in an Order\n",
    "- **Ship Mode** - This is how the shipment was transported to the Customer\n",
    "\n"
   ]
  },
  {
   "cell_type": "markdown",
   "id": "8f94931f",
   "metadata": {},
   "source": [
    "## QUESTIONS"
   ]
  },
  {
   "cell_type": "markdown",
   "id": "866d1ebf",
   "metadata": {},
   "source": [
    "Below are questions to be considered for insight generation in this analysis\n",
    "\n",
    "**Sales and Revenue**\n",
    "* Total Revenue for the year?\n",
    "* Sales per month by revenue?\n",
    "* Total Volume sold for the year?\n",
    "* Sales per month by volume?\n",
    "\n",
    "**Order Fuilfilment**\n",
    "* How long did it take to fulfil an order per month?\n",
    "* How long did it take to fulfil an order on an average for the whole year?\n",
    "* Average time of Order fuilfilment by Sales personel for the year?\n",
    "* How many percent of our critical and high urgency orders are we able to fulfil the same day?\n",
    "\n",
    "**Customer Profile**\n",
    "* Who are our 10 biggest customers per volume?\n",
    "* Who are our 10 biggest customers per revenue?\n",
    "\n",
    "**Shipping Cost**\n",
    "* What shipping mode costs us the most?\n",
    "* How many percent of sales price do we expend on shipping on an average?\n",
    "* What Shipping mode costs us least?\n",
    "\n",
    "**Top 5 best selling and least selling SKUs**\n",
    "* What are our top 5 selling SKUs?\n",
    "* What are our top 5 least selling SKUs?"
   ]
  },
  {
   "cell_type": "markdown",
   "id": "9ea51af8",
   "metadata": {},
   "source": [
    "## METRICS"
   ]
  },
  {
   "cell_type": "markdown",
   "id": "dec8e1bd",
   "metadata": {},
   "source": [
    "| METRIC  | LEVEL OF DETAILS |\n",
    "| :--------|:-----------------|\n",
    "| Total Revenue | by month, for the year |\n",
    "| Total Volume | by month, for the year |\n",
    "| Average Time of Order Fulfilment | by month, by year, by sales person by year |\n",
    "| Percentage Same day fulfilment of Critical and High urgency Orders | by month, for the year |\n",
    "| 10 Biggest customers by volume | Year |\n",
    "| 10 Biggest Customers by revenue | Year |\n",
    "| Most expensive shipping mode | Year |\n",
    "| Cheapest Shipping mode | Year |\n",
    "| Percentage of Revenue used for shipping | by month, Year |\n",
    "| top 5 SKUs with most sales | Year |\n",
    "| top 5 SKUs with the least sales  | Year |"
   ]
  },
  {
   "cell_type": "markdown",
   "id": "0b76b222",
   "metadata": {},
   "source": [
    "## DATA WRANGLING, CLEANUP AND TRANSFORMATION\n"
   ]
  },
  {
   "cell_type": "markdown",
   "id": "b82ce7ec",
   "metadata": {},
   "source": [
    "## Gather"
   ]
  },
  {
   "cell_type": "code",
   "execution_count": 1,
   "id": "edcf3c7b",
   "metadata": {},
   "outputs": [],
   "source": [
    "# importing the required libraries\n",
    "import pandas as pd\n",
    "import matplotlib.pyplot as plt\n",
    "\n"
   ]
  },
  {
   "cell_type": "code",
   "execution_count": 2,
   "id": "173340aa",
   "metadata": {},
   "outputs": [],
   "source": [
    "# reading the required dataset from excel\n",
    "df = pd.read_excel(\"Sales_2020.xlsx\")"
   ]
  },
  {
   "cell_type": "markdown",
   "id": "7bdba56f",
   "metadata": {},
   "source": [
    "## Assess"
   ]
  },
  {
   "cell_type": "code",
   "execution_count": 3,
   "id": "adc1a4c8",
   "metadata": {
    "scrolled": true
   },
   "outputs": [
    {
     "data": {
      "text/html": [
       "<div>\n",
       "<style scoped>\n",
       "    .dataframe tbody tr th:only-of-type {\n",
       "        vertical-align: middle;\n",
       "    }\n",
       "\n",
       "    .dataframe tbody tr th {\n",
       "        vertical-align: top;\n",
       "    }\n",
       "\n",
       "    .dataframe thead th {\n",
       "        text-align: right;\n",
       "    }\n",
       "</style>\n",
       "<table border=\"1\" class=\"dataframe\">\n",
       "  <thead>\n",
       "    <tr style=\"text-align: right;\">\n",
       "      <th></th>\n",
       "      <th>Order</th>\n",
       "      <th>Customer</th>\n",
       "      <th>Sales</th>\n",
       "      <th>Order.1</th>\n",
       "      <th>Ship</th>\n",
       "      <th>Order.2</th>\n",
       "      <th>SKU</th>\n",
       "      <th>Order.3</th>\n",
       "      <th>Unit Sell</th>\n",
       "      <th>Discount</th>\n",
       "      <th>Shipping</th>\n",
       "      <th>Ship Mode</th>\n",
       "      <th>Unnamed: 12</th>\n",
       "      <th>Unnamed: 13</th>\n",
       "      <th>Unnamed: 14</th>\n",
       "    </tr>\n",
       "  </thead>\n",
       "  <tbody>\n",
       "    <tr>\n",
       "      <th>609</th>\n",
       "      <td>28871</td>\n",
       "      <td>C170</td>\n",
       "      <td>Miss Roseanna Marr</td>\n",
       "      <td>2020-04-15 00:00:00</td>\n",
       "      <td>2020-04-15 00:00:00</td>\n",
       "      <td>High</td>\n",
       "      <td>SKU1012</td>\n",
       "      <td>10</td>\n",
       "      <td>5.02</td>\n",
       "      <td>0.08</td>\n",
       "      <td>5.14</td>\n",
       "      <td>Regular Air - Small Pack</td>\n",
       "      <td>NaN</td>\n",
       "      <td>NaN</td>\n",
       "      <td>NaN</td>\n",
       "    </tr>\n",
       "    <tr>\n",
       "      <th>792</th>\n",
       "      <td>50403</td>\n",
       "      <td>C426</td>\n",
       "      <td>Mr Robert Carlton</td>\n",
       "      <td>2020-05-12 00:00:00</td>\n",
       "      <td>2020-05-14 00:00:00</td>\n",
       "      <td>Not Specified</td>\n",
       "      <td>SKU456</td>\n",
       "      <td>38</td>\n",
       "      <td>7.1</td>\n",
       "      <td>0.05</td>\n",
       "      <td>6.05</td>\n",
       "      <td>Regular Air - Small Box</td>\n",
       "      <td>NaN</td>\n",
       "      <td>NaN</td>\n",
       "      <td>NaN</td>\n",
       "    </tr>\n",
       "    <tr>\n",
       "      <th>1377</th>\n",
       "      <td>49350</td>\n",
       "      <td>C454</td>\n",
       "      <td>Miss Roseanna Marr</td>\n",
       "      <td>2020-08-22 00:00:00</td>\n",
       "      <td>2020-08-24 00:00:00</td>\n",
       "      <td>High</td>\n",
       "      <td>SKU553</td>\n",
       "      <td>50</td>\n",
       "      <td>7.28</td>\n",
       "      <td>0.01</td>\n",
       "      <td>11.15</td>\n",
       "      <td>Regular Air - Small Box</td>\n",
       "      <td>NaN</td>\n",
       "      <td>NaN</td>\n",
       "      <td>NaN</td>\n",
       "    </tr>\n",
       "    <tr>\n",
       "      <th>4</th>\n",
       "      <td>10945</td>\n",
       "      <td>C623</td>\n",
       "      <td>Mr Robert Carlton</td>\n",
       "      <td>2020-01-02 00:00:00</td>\n",
       "      <td>2020-01-04 00:00:00</td>\n",
       "      <td>Medium</td>\n",
       "      <td>SKU1158</td>\n",
       "      <td>14</td>\n",
       "      <td>95.99</td>\n",
       "      <td>0.04</td>\n",
       "      <td>8.99</td>\n",
       "      <td>Regular Air - Small Box</td>\n",
       "      <td>NaN</td>\n",
       "      <td>NaN</td>\n",
       "      <td>NaN</td>\n",
       "    </tr>\n",
       "    <tr>\n",
       "      <th>1915</th>\n",
       "      <td>34976</td>\n",
       "      <td>C458</td>\n",
       "      <td>Miss Roseanna Marr</td>\n",
       "      <td>2020-11-24 00:00:00</td>\n",
       "      <td>2020-11-26 00:00:00</td>\n",
       "      <td>Medium</td>\n",
       "      <td>SKU031</td>\n",
       "      <td>45</td>\n",
       "      <td>95.95</td>\n",
       "      <td>0.02</td>\n",
       "      <td>74.35</td>\n",
       "      <td>Delivery Truck - Jumbo Drum</td>\n",
       "      <td>NaN</td>\n",
       "      <td>NaN</td>\n",
       "      <td>NaN</td>\n",
       "    </tr>\n",
       "    <tr>\n",
       "      <th>1640</th>\n",
       "      <td>44000</td>\n",
       "      <td>C191</td>\n",
       "      <td>Mrs Gail Johnson</td>\n",
       "      <td>2020-10-04 00:00:00</td>\n",
       "      <td>2020-10-04 00:00:00</td>\n",
       "      <td>Not Specified</td>\n",
       "      <td>SKU456</td>\n",
       "      <td>17</td>\n",
       "      <td>7.1</td>\n",
       "      <td>0.06</td>\n",
       "      <td>6.05</td>\n",
       "      <td>Regular Air - Small Box</td>\n",
       "      <td>NaN</td>\n",
       "      <td>NaN</td>\n",
       "      <td>NaN</td>\n",
       "    </tr>\n",
       "    <tr>\n",
       "      <th>514</th>\n",
       "      <td>49351</td>\n",
       "      <td>C539</td>\n",
       "      <td>Mrs Gail Johnson</td>\n",
       "      <td>2020-03-30 00:00:00</td>\n",
       "      <td>2020-04-03 00:00:00</td>\n",
       "      <td>Low</td>\n",
       "      <td>SKU772</td>\n",
       "      <td>27</td>\n",
       "      <td>3.98</td>\n",
       "      <td>0.06</td>\n",
       "      <td>0.83</td>\n",
       "      <td>Regular Air - Wrap Bag</td>\n",
       "      <td>NaN</td>\n",
       "      <td>NaN</td>\n",
       "      <td>NaN</td>\n",
       "    </tr>\n",
       "    <tr>\n",
       "      <th>1109</th>\n",
       "      <td>44486</td>\n",
       "      <td>C763</td>\n",
       "      <td>Miss Roseanna Marr</td>\n",
       "      <td>2020-07-09 00:00:00</td>\n",
       "      <td>2020-07-12 00:00:00</td>\n",
       "      <td>Critical</td>\n",
       "      <td>SKU628</td>\n",
       "      <td>36</td>\n",
       "      <td>5.78</td>\n",
       "      <td>0.09</td>\n",
       "      <td>4.96</td>\n",
       "      <td>Regular Air - Small Box</td>\n",
       "      <td>NaN</td>\n",
       "      <td>NaN</td>\n",
       "      <td>NaN</td>\n",
       "    </tr>\n",
       "    <tr>\n",
       "      <th>1018</th>\n",
       "      <td>33222</td>\n",
       "      <td>C574</td>\n",
       "      <td>Mrs Gail Johnson</td>\n",
       "      <td>2020-06-19 00:00:00</td>\n",
       "      <td>2020-06-20 00:00:00</td>\n",
       "      <td>Medium</td>\n",
       "      <td>SKU066</td>\n",
       "      <td>30</td>\n",
       "      <td>60.98</td>\n",
       "      <td>0.1</td>\n",
       "      <td>30</td>\n",
       "      <td>Delivery Truck - Jumbo Drum</td>\n",
       "      <td>NaN</td>\n",
       "      <td>NaN</td>\n",
       "      <td>NaN</td>\n",
       "    </tr>\n",
       "    <tr>\n",
       "      <th>46</th>\n",
       "      <td>26818</td>\n",
       "      <td>C234</td>\n",
       "      <td>Mrs Gail Johnson</td>\n",
       "      <td>2020-01-07 00:00:00</td>\n",
       "      <td>2020-01-08 00:00:00</td>\n",
       "      <td>Not Specified</td>\n",
       "      <td>SKU344</td>\n",
       "      <td>36</td>\n",
       "      <td>7.3</td>\n",
       "      <td>0.1</td>\n",
       "      <td>7.72</td>\n",
       "      <td>Regular Air - Small Box</td>\n",
       "      <td>NaN</td>\n",
       "      <td>NaN</td>\n",
       "      <td>NaN</td>\n",
       "    </tr>\n",
       "  </tbody>\n",
       "</table>\n",
       "</div>"
      ],
      "text/plain": [
       "      Order Customer               Sales              Order.1  \\\n",
       "609   28871     C170  Miss Roseanna Marr  2020-04-15 00:00:00   \n",
       "792   50403     C426   Mr Robert Carlton  2020-05-12 00:00:00   \n",
       "1377  49350     C454  Miss Roseanna Marr  2020-08-22 00:00:00   \n",
       "4     10945     C623   Mr Robert Carlton  2020-01-02 00:00:00   \n",
       "1915  34976     C458  Miss Roseanna Marr  2020-11-24 00:00:00   \n",
       "1640  44000     C191    Mrs Gail Johnson  2020-10-04 00:00:00   \n",
       "514   49351     C539    Mrs Gail Johnson  2020-03-30 00:00:00   \n",
       "1109  44486     C763  Miss Roseanna Marr  2020-07-09 00:00:00   \n",
       "1018  33222     C574    Mrs Gail Johnson  2020-06-19 00:00:00   \n",
       "46    26818     C234    Mrs Gail Johnson  2020-01-07 00:00:00   \n",
       "\n",
       "                     Ship        Order.2      SKU Order.3 Unit Sell Discount  \\\n",
       "609   2020-04-15 00:00:00           High  SKU1012      10      5.02     0.08   \n",
       "792   2020-05-14 00:00:00  Not Specified   SKU456      38       7.1     0.05   \n",
       "1377  2020-08-24 00:00:00           High   SKU553      50      7.28     0.01   \n",
       "4     2020-01-04 00:00:00         Medium  SKU1158      14     95.99     0.04   \n",
       "1915  2020-11-26 00:00:00         Medium   SKU031      45     95.95     0.02   \n",
       "1640  2020-10-04 00:00:00  Not Specified   SKU456      17       7.1     0.06   \n",
       "514   2020-04-03 00:00:00            Low   SKU772      27      3.98     0.06   \n",
       "1109  2020-07-12 00:00:00       Critical   SKU628      36      5.78     0.09   \n",
       "1018  2020-06-20 00:00:00         Medium   SKU066      30     60.98      0.1   \n",
       "46    2020-01-08 00:00:00  Not Specified   SKU344      36       7.3      0.1   \n",
       "\n",
       "     Shipping                    Ship Mode  Unnamed: 12  Unnamed: 13  \\\n",
       "609      5.14     Regular Air - Small Pack          NaN          NaN   \n",
       "792      6.05      Regular Air - Small Box          NaN          NaN   \n",
       "1377    11.15      Regular Air - Small Box          NaN          NaN   \n",
       "4        8.99      Regular Air - Small Box          NaN          NaN   \n",
       "1915    74.35  Delivery Truck - Jumbo Drum          NaN          NaN   \n",
       "1640     6.05      Regular Air - Small Box          NaN          NaN   \n",
       "514      0.83       Regular Air - Wrap Bag          NaN          NaN   \n",
       "1109     4.96      Regular Air - Small Box          NaN          NaN   \n",
       "1018       30  Delivery Truck - Jumbo Drum          NaN          NaN   \n",
       "46       7.72      Regular Air - Small Box          NaN          NaN   \n",
       "\n",
       "     Unnamed: 14  \n",
       "609          NaN  \n",
       "792          NaN  \n",
       "1377         NaN  \n",
       "4            NaN  \n",
       "1915         NaN  \n",
       "1640         NaN  \n",
       "514          NaN  \n",
       "1109         NaN  \n",
       "1018         NaN  \n",
       "46           NaN  "
      ]
     },
     "execution_count": 3,
     "metadata": {},
     "output_type": "execute_result"
    }
   ],
   "source": [
    "# sampling the data set\n",
    "df.sample(10)"
   ]
  },
  {
   "cell_type": "code",
   "execution_count": 4,
   "id": "15be98a0",
   "metadata": {
    "scrolled": true
   },
   "outputs": [
    {
     "data": {
      "text/html": [
       "<div>\n",
       "<style scoped>\n",
       "    .dataframe tbody tr th:only-of-type {\n",
       "        vertical-align: middle;\n",
       "    }\n",
       "\n",
       "    .dataframe tbody tr th {\n",
       "        vertical-align: top;\n",
       "    }\n",
       "\n",
       "    .dataframe thead th {\n",
       "        text-align: right;\n",
       "    }\n",
       "</style>\n",
       "<table border=\"1\" class=\"dataframe\">\n",
       "  <thead>\n",
       "    <tr style=\"text-align: right;\">\n",
       "      <th></th>\n",
       "      <th>Order</th>\n",
       "      <th>Customer</th>\n",
       "      <th>Sales</th>\n",
       "      <th>Order.1</th>\n",
       "      <th>Ship</th>\n",
       "      <th>Order.2</th>\n",
       "      <th>SKU</th>\n",
       "      <th>Order.3</th>\n",
       "      <th>Unit Sell</th>\n",
       "      <th>Discount</th>\n",
       "      <th>Shipping</th>\n",
       "      <th>Ship Mode</th>\n",
       "      <th>Unnamed: 12</th>\n",
       "      <th>Unnamed: 13</th>\n",
       "      <th>Unnamed: 14</th>\n",
       "    </tr>\n",
       "  </thead>\n",
       "  <tbody>\n",
       "    <tr>\n",
       "      <th>0</th>\n",
       "      <td>ID</td>\n",
       "      <td>ID</td>\n",
       "      <td>Person</td>\n",
       "      <td>Date</td>\n",
       "      <td>Date</td>\n",
       "      <td>Priority</td>\n",
       "      <td>Code</td>\n",
       "      <td>Quantity</td>\n",
       "      <td>Price</td>\n",
       "      <td>Percent</td>\n",
       "      <td>Amount</td>\n",
       "      <td>Container</td>\n",
       "      <td>NaN</td>\n",
       "      <td>NaN</td>\n",
       "      <td>NaN</td>\n",
       "    </tr>\n",
       "    <tr>\n",
       "      <th>1</th>\n",
       "      <td>29030</td>\n",
       "      <td>C660</td>\n",
       "      <td>Mrs Gail Johnson</td>\n",
       "      <td>2020-01-01 00:00:00</td>\n",
       "      <td>2020-01-02 00:00:00</td>\n",
       "      <td>Medium</td>\n",
       "      <td>SKU814</td>\n",
       "      <td>10</td>\n",
       "      <td>19.84</td>\n",
       "      <td>0.05</td>\n",
       "      <td>4.1</td>\n",
       "      <td>Regular Air - Wrap Bag</td>\n",
       "      <td>NaN</td>\n",
       "      <td>NaN</td>\n",
       "      <td>NaN</td>\n",
       "    </tr>\n",
       "    <tr>\n",
       "      <th>2</th>\n",
       "      <td>47591</td>\n",
       "      <td>C198</td>\n",
       "      <td>Mr Robert Carlton</td>\n",
       "      <td>2020-01-01 00:00:00</td>\n",
       "      <td>2020-01-02 00:00:00</td>\n",
       "      <td>Critical</td>\n",
       "      <td>SKU957</td>\n",
       "      <td>27</td>\n",
       "      <td>10.48</td>\n",
       "      <td>0.1</td>\n",
       "      <td>6.91</td>\n",
       "      <td>Regular Air - Small Box</td>\n",
       "      <td>NaN</td>\n",
       "      <td>NaN</td>\n",
       "      <td>fillna</td>\n",
       "    </tr>\n",
       "    <tr>\n",
       "      <th>3</th>\n",
       "      <td>54214</td>\n",
       "      <td>C628</td>\n",
       "      <td>Mr Robert Carlton</td>\n",
       "      <td>2020-01-01 00:00:00</td>\n",
       "      <td>2020-01-04 00:00:00</td>\n",
       "      <td>Medium</td>\n",
       "      <td>SKU1076</td>\n",
       "      <td>38</td>\n",
       "      <td>199.99</td>\n",
       "      <td>0.04</td>\n",
       "      <td>24.49</td>\n",
       "      <td>Express Air - Large Box</td>\n",
       "      <td>NaN</td>\n",
       "      <td>NaN</td>\n",
       "      <td>dropna</td>\n",
       "    </tr>\n",
       "  </tbody>\n",
       "</table>\n",
       "</div>"
      ],
      "text/plain": [
       "   Order Customer              Sales              Order.1  \\\n",
       "0     ID       ID             Person                 Date   \n",
       "1  29030     C660   Mrs Gail Johnson  2020-01-01 00:00:00   \n",
       "2  47591     C198  Mr Robert Carlton  2020-01-01 00:00:00   \n",
       "3  54214     C628  Mr Robert Carlton  2020-01-01 00:00:00   \n",
       "\n",
       "                  Ship   Order.2      SKU   Order.3 Unit Sell Discount  \\\n",
       "0                 Date  Priority     Code  Quantity     Price  Percent   \n",
       "1  2020-01-02 00:00:00    Medium   SKU814        10     19.84     0.05   \n",
       "2  2020-01-02 00:00:00  Critical   SKU957        27     10.48      0.1   \n",
       "3  2020-01-04 00:00:00    Medium  SKU1076        38    199.99     0.04   \n",
       "\n",
       "  Shipping                Ship Mode  Unnamed: 12  Unnamed: 13 Unnamed: 14  \n",
       "0   Amount                Container          NaN          NaN         NaN  \n",
       "1      4.1   Regular Air - Wrap Bag          NaN          NaN         NaN  \n",
       "2     6.91  Regular Air - Small Box          NaN          NaN      fillna  \n",
       "3    24.49  Express Air - Large Box          NaN          NaN      dropna  "
      ]
     },
     "execution_count": 4,
     "metadata": {},
     "output_type": "execute_result"
    }
   ],
   "source": [
    "# Check the top 5 columns\n",
    "\n",
    "df.head(4)"
   ]
  },
  {
   "cell_type": "code",
   "execution_count": 5,
   "id": "721b8d49",
   "metadata": {
    "scrolled": true
   },
   "outputs": [
    {
     "data": {
      "text/html": [
       "<div>\n",
       "<style scoped>\n",
       "    .dataframe tbody tr th:only-of-type {\n",
       "        vertical-align: middle;\n",
       "    }\n",
       "\n",
       "    .dataframe tbody tr th {\n",
       "        vertical-align: top;\n",
       "    }\n",
       "\n",
       "    .dataframe thead th {\n",
       "        text-align: right;\n",
       "    }\n",
       "</style>\n",
       "<table border=\"1\" class=\"dataframe\">\n",
       "  <thead>\n",
       "    <tr style=\"text-align: right;\">\n",
       "      <th></th>\n",
       "      <th>Order</th>\n",
       "      <th>Customer</th>\n",
       "      <th>Sales</th>\n",
       "      <th>Order.1</th>\n",
       "      <th>Ship</th>\n",
       "      <th>Order.2</th>\n",
       "      <th>SKU</th>\n",
       "      <th>Order.3</th>\n",
       "      <th>Unit Sell</th>\n",
       "      <th>Discount</th>\n",
       "      <th>Shipping</th>\n",
       "      <th>Ship Mode</th>\n",
       "      <th>Unnamed: 12</th>\n",
       "      <th>Unnamed: 13</th>\n",
       "      <th>Unnamed: 14</th>\n",
       "    </tr>\n",
       "  </thead>\n",
       "  <tbody>\n",
       "    <tr>\n",
       "      <th>2098</th>\n",
       "      <td>47815</td>\n",
       "      <td>C377</td>\n",
       "      <td>Mrs Gail Johnson</td>\n",
       "      <td>2020-12-30 00:00:00</td>\n",
       "      <td>2020-12-30 00:00:00</td>\n",
       "      <td>Not Specified</td>\n",
       "      <td>SKU114</td>\n",
       "      <td>45</td>\n",
       "      <td>13.73</td>\n",
       "      <td>0.08</td>\n",
       "      <td>6.85</td>\n",
       "      <td>Regular Air - Wrap Bag</td>\n",
       "      <td>NaN</td>\n",
       "      <td>NaN</td>\n",
       "      <td>NaN</td>\n",
       "    </tr>\n",
       "    <tr>\n",
       "      <th>2099</th>\n",
       "      <td>50950</td>\n",
       "      <td>C768</td>\n",
       "      <td>Mrs Gail Johnson</td>\n",
       "      <td>2020-12-30 00:00:00</td>\n",
       "      <td>2020-12-30 00:00:00</td>\n",
       "      <td>Not Specified</td>\n",
       "      <td>SKU066</td>\n",
       "      <td>6</td>\n",
       "      <td>60.98</td>\n",
       "      <td>0.06</td>\n",
       "      <td>30</td>\n",
       "      <td>Delivery Truck - Jumbo Drum</td>\n",
       "      <td>NaN</td>\n",
       "      <td>NaN</td>\n",
       "      <td>NaN</td>\n",
       "    </tr>\n",
       "    <tr>\n",
       "      <th>2100</th>\n",
       "      <td>50950</td>\n",
       "      <td>C768</td>\n",
       "      <td>Mrs Gail Johnson</td>\n",
       "      <td>2020-12-30 00:00:00</td>\n",
       "      <td>2020-12-30 00:00:00</td>\n",
       "      <td>Not Specified</td>\n",
       "      <td>SKU961</td>\n",
       "      <td>35</td>\n",
       "      <td>13.48</td>\n",
       "      <td>0.1</td>\n",
       "      <td>4.51</td>\n",
       "      <td>Express Air - Small Box</td>\n",
       "      <td>NaN</td>\n",
       "      <td>NaN</td>\n",
       "      <td>NaN</td>\n",
       "    </tr>\n",
       "  </tbody>\n",
       "</table>\n",
       "</div>"
      ],
      "text/plain": [
       "      Order Customer             Sales              Order.1  \\\n",
       "2098  47815     C377  Mrs Gail Johnson  2020-12-30 00:00:00   \n",
       "2099  50950     C768  Mrs Gail Johnson  2020-12-30 00:00:00   \n",
       "2100  50950     C768  Mrs Gail Johnson  2020-12-30 00:00:00   \n",
       "\n",
       "                     Ship        Order.2     SKU Order.3 Unit Sell Discount  \\\n",
       "2098  2020-12-30 00:00:00  Not Specified  SKU114      45     13.73     0.08   \n",
       "2099  2020-12-30 00:00:00  Not Specified  SKU066       6     60.98     0.06   \n",
       "2100  2020-12-30 00:00:00  Not Specified  SKU961      35     13.48      0.1   \n",
       "\n",
       "     Shipping                    Ship Mode  Unnamed: 12  Unnamed: 13  \\\n",
       "2098     6.85       Regular Air - Wrap Bag          NaN          NaN   \n",
       "2099       30  Delivery Truck - Jumbo Drum          NaN          NaN   \n",
       "2100     4.51      Express Air - Small Box          NaN          NaN   \n",
       "\n",
       "     Unnamed: 14  \n",
       "2098         NaN  \n",
       "2099         NaN  \n",
       "2100         NaN  "
      ]
     },
     "execution_count": 5,
     "metadata": {},
     "output_type": "execute_result"
    }
   ],
   "source": [
    "# Check the last 5 columns\n",
    "\n",
    "df.tail(3)"
   ]
  },
  {
   "cell_type": "code",
   "execution_count": 6,
   "id": "2e24bae1",
   "metadata": {
    "scrolled": true
   },
   "outputs": [
    {
     "name": "stdout",
     "output_type": "stream",
     "text": [
      "<class 'pandas.core.frame.DataFrame'>\n",
      "RangeIndex: 2101 entries, 0 to 2100\n",
      "Data columns (total 15 columns):\n",
      " #   Column       Non-Null Count  Dtype  \n",
      "---  ------       --------------  -----  \n",
      " 0   Order        2101 non-null   object \n",
      " 1   Customer     2101 non-null   object \n",
      " 2   Sales        2100 non-null   object \n",
      " 3   Order.1      2101 non-null   object \n",
      " 4   Ship         2101 non-null   object \n",
      " 5   Order.2      2100 non-null   object \n",
      " 6   SKU          2098 non-null   object \n",
      " 7   Order.3      2101 non-null   object \n",
      " 8   Unit Sell    2095 non-null   object \n",
      " 9   Discount     2101 non-null   object \n",
      " 10  Shipping     2101 non-null   object \n",
      " 11  Ship Mode    2101 non-null   object \n",
      " 12  Unnamed: 12  0 non-null      float64\n",
      " 13  Unnamed: 13  0 non-null      float64\n",
      " 14  Unnamed: 14  2 non-null      object \n",
      "dtypes: float64(2), object(13)\n",
      "memory usage: 246.3+ KB\n"
     ]
    }
   ],
   "source": [
    "df.info()"
   ]
  },
  {
   "cell_type": "code",
   "execution_count": 7,
   "id": "ca344ef6",
   "metadata": {},
   "outputs": [
    {
     "data": {
      "text/plain": [
       "0"
      ]
     },
     "execution_count": 7,
     "metadata": {},
     "output_type": "execute_result"
    }
   ],
   "source": [
    "# Check for duplicate data\n",
    "\n",
    "df.duplicated().sum()"
   ]
  },
  {
   "cell_type": "code",
   "execution_count": 8,
   "id": "35418534",
   "metadata": {},
   "outputs": [
    {
     "data": {
      "text/plain": [
       "Order             0\n",
       "Customer          0\n",
       "Sales             1\n",
       "Order.1           0\n",
       "Ship              0\n",
       "Order.2           1\n",
       "SKU               3\n",
       "Order.3           0\n",
       "Unit Sell         6\n",
       "Discount          0\n",
       "Shipping          0\n",
       "Ship Mode         0\n",
       "Unnamed: 12    2101\n",
       "Unnamed: 13    2101\n",
       "Unnamed: 14    2099\n",
       "dtype: int64"
      ]
     },
     "execution_count": 8,
     "metadata": {},
     "output_type": "execute_result"
    }
   ],
   "source": [
    "# Check number of rows with empty data\n",
    "\n",
    "df.isna().sum()"
   ]
  },
  {
   "cell_type": "markdown",
   "id": "e52ffb32",
   "metadata": {},
   "source": [
    "## Observations\n",
    "\n",
    "- The first row is supposed to be part of the header\n",
    "- The naming of some columns does not align with the data they contain\n",
    "- The last three columns contains mostly empty data\n",
    "- Apart of the last three columns the other columns contains negligible number of missing data\n",
    "- The data set doesn't contain duplicated rows\n"
   ]
  },
  {
   "cell_type": "markdown",
   "id": "46540eaf",
   "metadata": {},
   "source": [
    "## Operations to be Carried Out are"
   ]
  },
  {
   "cell_type": "markdown",
   "id": "f2642584",
   "metadata": {},
   "source": [
    "- Rename columns with missleading titles\n",
    "- Delete the first row of data\n",
    "- Delete the last three columns as they entirely contain empty cells\n",
    "- Delete the rows bearing missing data\n",
    "- Split **Shipment Mode** column into columns \"Shipment Mode\" and \"Column\"\n"
   ]
  },
  {
   "cell_type": "markdown",
   "id": "1c4f91f2",
   "metadata": {},
   "source": [
    "### 1.  Rename Columns\n",
    "Some columns are to be renamed so that the respective names aligns with the data they contain"
   ]
  },
  {
   "cell_type": "markdown",
   "id": "abf19c8c",
   "metadata": {},
   "source": [
    "#### Code"
   ]
  },
  {
   "cell_type": "code",
   "execution_count": 9,
   "id": "ce1d02ef",
   "metadata": {},
   "outputs": [],
   "source": [
    "df.rename(columns = {\"Sales\":\"Sales Officer\", \"Order.1\":\"Order Date\", \"Discount\":\"Discount Percent\", \"Unit Sell\":\"Unit Sell Price\",\"Ship\":\"Shipping Date\", \"Order.2\":\"Priority\",\"Order.3\":\"Quantity\",\"Shipping\":\"Shipping Cost\"},inplace=True)"
   ]
  },
  {
   "cell_type": "markdown",
   "id": "7596e351",
   "metadata": {},
   "source": [
    "#### Confirm"
   ]
  },
  {
   "cell_type": "code",
   "execution_count": 10,
   "id": "78e14f23",
   "metadata": {},
   "outputs": [
    {
     "data": {
      "text/html": [
       "<div>\n",
       "<style scoped>\n",
       "    .dataframe tbody tr th:only-of-type {\n",
       "        vertical-align: middle;\n",
       "    }\n",
       "\n",
       "    .dataframe tbody tr th {\n",
       "        vertical-align: top;\n",
       "    }\n",
       "\n",
       "    .dataframe thead th {\n",
       "        text-align: right;\n",
       "    }\n",
       "</style>\n",
       "<table border=\"1\" class=\"dataframe\">\n",
       "  <thead>\n",
       "    <tr style=\"text-align: right;\">\n",
       "      <th></th>\n",
       "      <th>Order</th>\n",
       "      <th>Customer</th>\n",
       "      <th>Sales Officer</th>\n",
       "      <th>Order Date</th>\n",
       "      <th>Shipping Date</th>\n",
       "      <th>Priority</th>\n",
       "      <th>SKU</th>\n",
       "      <th>Quantity</th>\n",
       "      <th>Unit Sell Price</th>\n",
       "      <th>Discount Percent</th>\n",
       "      <th>Shipping Cost</th>\n",
       "      <th>Ship Mode</th>\n",
       "      <th>Unnamed: 12</th>\n",
       "      <th>Unnamed: 13</th>\n",
       "      <th>Unnamed: 14</th>\n",
       "    </tr>\n",
       "  </thead>\n",
       "  <tbody>\n",
       "    <tr>\n",
       "      <th>1717</th>\n",
       "      <td>48643</td>\n",
       "      <td>C456</td>\n",
       "      <td>Mr Robert Carlton</td>\n",
       "      <td>2020-10-18 00:00:00</td>\n",
       "      <td>2020-10-20 00:00:00</td>\n",
       "      <td>Medium</td>\n",
       "      <td>SKU503</td>\n",
       "      <td>6</td>\n",
       "      <td>2.88</td>\n",
       "      <td>0.06</td>\n",
       "      <td>0.99</td>\n",
       "      <td>Regular Air - Small Box</td>\n",
       "      <td>NaN</td>\n",
       "      <td>NaN</td>\n",
       "      <td>NaN</td>\n",
       "    </tr>\n",
       "  </tbody>\n",
       "</table>\n",
       "</div>"
      ],
      "text/plain": [
       "      Order Customer      Sales Officer           Order Date  \\\n",
       "1717  48643     C456  Mr Robert Carlton  2020-10-18 00:00:00   \n",
       "\n",
       "            Shipping Date Priority     SKU Quantity Unit Sell Price  \\\n",
       "1717  2020-10-20 00:00:00   Medium  SKU503        6            2.88   \n",
       "\n",
       "     Discount Percent Shipping Cost                Ship Mode  Unnamed: 12  \\\n",
       "1717             0.06          0.99  Regular Air - Small Box          NaN   \n",
       "\n",
       "      Unnamed: 13 Unnamed: 14  \n",
       "1717          NaN         NaN  "
      ]
     },
     "execution_count": 10,
     "metadata": {},
     "output_type": "execute_result"
    }
   ],
   "source": [
    "df.sample()"
   ]
  },
  {
   "cell_type": "markdown",
   "id": "e969fbd2",
   "metadata": {},
   "source": [
    "### 2. Delete First Column\n",
    "\n",
    "The first row of the data set is to be deleted because they dont contain relevant data"
   ]
  },
  {
   "cell_type": "markdown",
   "id": "8f20815c",
   "metadata": {},
   "source": [
    "#### Code"
   ]
  },
  {
   "cell_type": "code",
   "execution_count": 11,
   "id": "e22e7c74",
   "metadata": {},
   "outputs": [],
   "source": [
    "df.drop(0,axis=0,inplace=True)"
   ]
  },
  {
   "cell_type": "code",
   "execution_count": 12,
   "id": "88f96b34",
   "metadata": {},
   "outputs": [
    {
     "data": {
      "text/html": [
       "<div>\n",
       "<style scoped>\n",
       "    .dataframe tbody tr th:only-of-type {\n",
       "        vertical-align: middle;\n",
       "    }\n",
       "\n",
       "    .dataframe tbody tr th {\n",
       "        vertical-align: top;\n",
       "    }\n",
       "\n",
       "    .dataframe thead th {\n",
       "        text-align: right;\n",
       "    }\n",
       "</style>\n",
       "<table border=\"1\" class=\"dataframe\">\n",
       "  <thead>\n",
       "    <tr style=\"text-align: right;\">\n",
       "      <th></th>\n",
       "      <th>Order</th>\n",
       "      <th>Customer</th>\n",
       "      <th>Sales Officer</th>\n",
       "      <th>Order Date</th>\n",
       "      <th>Shipping Date</th>\n",
       "      <th>Priority</th>\n",
       "      <th>SKU</th>\n",
       "      <th>Quantity</th>\n",
       "      <th>Unit Sell Price</th>\n",
       "      <th>Discount Percent</th>\n",
       "      <th>Shipping Cost</th>\n",
       "      <th>Ship Mode</th>\n",
       "      <th>Unnamed: 12</th>\n",
       "      <th>Unnamed: 13</th>\n",
       "      <th>Unnamed: 14</th>\n",
       "    </tr>\n",
       "  </thead>\n",
       "  <tbody>\n",
       "    <tr>\n",
       "      <th>1</th>\n",
       "      <td>29030</td>\n",
       "      <td>C660</td>\n",
       "      <td>Mrs Gail Johnson</td>\n",
       "      <td>2020-01-01 00:00:00</td>\n",
       "      <td>2020-01-02 00:00:00</td>\n",
       "      <td>Medium</td>\n",
       "      <td>SKU814</td>\n",
       "      <td>10</td>\n",
       "      <td>19.84</td>\n",
       "      <td>0.05</td>\n",
       "      <td>4.1</td>\n",
       "      <td>Regular Air - Wrap Bag</td>\n",
       "      <td>NaN</td>\n",
       "      <td>NaN</td>\n",
       "      <td>NaN</td>\n",
       "    </tr>\n",
       "    <tr>\n",
       "      <th>2</th>\n",
       "      <td>47591</td>\n",
       "      <td>C198</td>\n",
       "      <td>Mr Robert Carlton</td>\n",
       "      <td>2020-01-01 00:00:00</td>\n",
       "      <td>2020-01-02 00:00:00</td>\n",
       "      <td>Critical</td>\n",
       "      <td>SKU957</td>\n",
       "      <td>27</td>\n",
       "      <td>10.48</td>\n",
       "      <td>0.1</td>\n",
       "      <td>6.91</td>\n",
       "      <td>Regular Air - Small Box</td>\n",
       "      <td>NaN</td>\n",
       "      <td>NaN</td>\n",
       "      <td>fillna</td>\n",
       "    </tr>\n",
       "    <tr>\n",
       "      <th>3</th>\n",
       "      <td>54214</td>\n",
       "      <td>C628</td>\n",
       "      <td>Mr Robert Carlton</td>\n",
       "      <td>2020-01-01 00:00:00</td>\n",
       "      <td>2020-01-04 00:00:00</td>\n",
       "      <td>Medium</td>\n",
       "      <td>SKU1076</td>\n",
       "      <td>38</td>\n",
       "      <td>199.99</td>\n",
       "      <td>0.04</td>\n",
       "      <td>24.49</td>\n",
       "      <td>Express Air - Large Box</td>\n",
       "      <td>NaN</td>\n",
       "      <td>NaN</td>\n",
       "      <td>dropna</td>\n",
       "    </tr>\n",
       "  </tbody>\n",
       "</table>\n",
       "</div>"
      ],
      "text/plain": [
       "   Order Customer      Sales Officer           Order Date  \\\n",
       "1  29030     C660   Mrs Gail Johnson  2020-01-01 00:00:00   \n",
       "2  47591     C198  Mr Robert Carlton  2020-01-01 00:00:00   \n",
       "3  54214     C628  Mr Robert Carlton  2020-01-01 00:00:00   \n",
       "\n",
       "         Shipping Date  Priority      SKU Quantity Unit Sell Price  \\\n",
       "1  2020-01-02 00:00:00    Medium   SKU814       10           19.84   \n",
       "2  2020-01-02 00:00:00  Critical   SKU957       27           10.48   \n",
       "3  2020-01-04 00:00:00    Medium  SKU1076       38          199.99   \n",
       "\n",
       "  Discount Percent Shipping Cost                Ship Mode  Unnamed: 12  \\\n",
       "1             0.05           4.1   Regular Air - Wrap Bag          NaN   \n",
       "2              0.1          6.91  Regular Air - Small Box          NaN   \n",
       "3             0.04         24.49  Express Air - Large Box          NaN   \n",
       "\n",
       "   Unnamed: 13 Unnamed: 14  \n",
       "1          NaN         NaN  \n",
       "2          NaN      fillna  \n",
       "3          NaN      dropna  "
      ]
     },
     "execution_count": 12,
     "metadata": {},
     "output_type": "execute_result"
    }
   ],
   "source": [
    "#### Confirm\n",
    "\n",
    "df.head(3)"
   ]
  },
  {
   "cell_type": "markdown",
   "id": "aadd9595",
   "metadata": {},
   "source": [
    "### 3. Delete Columns\n"
   ]
  },
  {
   "cell_type": "code",
   "execution_count": 13,
   "id": "43f85add",
   "metadata": {},
   "outputs": [],
   "source": [
    "# The last three columns containing almost entirely missing data will be deleted"
   ]
  },
  {
   "cell_type": "markdown",
   "id": "64d10f12",
   "metadata": {},
   "source": [
    "#### Code"
   ]
  },
  {
   "cell_type": "code",
   "execution_count": 14,
   "id": "69fa48ff",
   "metadata": {},
   "outputs": [],
   "source": [
    "df.drop(columns=[\"Unnamed: 12\",\"Unnamed: 13\",\"Unnamed: 14\"], axis = 1, inplace=True)"
   ]
  },
  {
   "cell_type": "markdown",
   "id": "b8d434d6",
   "metadata": {},
   "source": [
    "#### Confirm"
   ]
  },
  {
   "cell_type": "code",
   "execution_count": 15,
   "id": "5fcda3cf",
   "metadata": {
    "scrolled": true
   },
   "outputs": [
    {
     "data": {
      "text/html": [
       "<div>\n",
       "<style scoped>\n",
       "    .dataframe tbody tr th:only-of-type {\n",
       "        vertical-align: middle;\n",
       "    }\n",
       "\n",
       "    .dataframe tbody tr th {\n",
       "        vertical-align: top;\n",
       "    }\n",
       "\n",
       "    .dataframe thead th {\n",
       "        text-align: right;\n",
       "    }\n",
       "</style>\n",
       "<table border=\"1\" class=\"dataframe\">\n",
       "  <thead>\n",
       "    <tr style=\"text-align: right;\">\n",
       "      <th></th>\n",
       "      <th>Order</th>\n",
       "      <th>Customer</th>\n",
       "      <th>Sales Officer</th>\n",
       "      <th>Order Date</th>\n",
       "      <th>Shipping Date</th>\n",
       "      <th>Priority</th>\n",
       "      <th>SKU</th>\n",
       "      <th>Quantity</th>\n",
       "      <th>Unit Sell Price</th>\n",
       "      <th>Discount Percent</th>\n",
       "      <th>Shipping Cost</th>\n",
       "      <th>Ship Mode</th>\n",
       "    </tr>\n",
       "  </thead>\n",
       "  <tbody>\n",
       "    <tr>\n",
       "      <th>90</th>\n",
       "      <td>3685</td>\n",
       "      <td>C548</td>\n",
       "      <td>Mr Robert Carlton</td>\n",
       "      <td>2020-01-15 00:00:00</td>\n",
       "      <td>2020-01-16 00:00:00</td>\n",
       "      <td>Medium</td>\n",
       "      <td>SKU804</td>\n",
       "      <td>29</td>\n",
       "      <td>3.28</td>\n",
       "      <td>0</td>\n",
       "      <td>5</td>\n",
       "      <td>Regular Air - Wrap Bag</td>\n",
       "    </tr>\n",
       "  </tbody>\n",
       "</table>\n",
       "</div>"
      ],
      "text/plain": [
       "   Order Customer      Sales Officer           Order Date  \\\n",
       "90  3685     C548  Mr Robert Carlton  2020-01-15 00:00:00   \n",
       "\n",
       "          Shipping Date Priority     SKU Quantity Unit Sell Price  \\\n",
       "90  2020-01-16 00:00:00   Medium  SKU804       29            3.28   \n",
       "\n",
       "   Discount Percent Shipping Cost               Ship Mode  \n",
       "90                0             5  Regular Air - Wrap Bag  "
      ]
     },
     "execution_count": 15,
     "metadata": {},
     "output_type": "execute_result"
    }
   ],
   "source": [
    "df.sample()"
   ]
  },
  {
   "cell_type": "markdown",
   "id": "460011e7",
   "metadata": {},
   "source": [
    "### 4 Delete the rows bearing missing data\n",
    "\n",
    "The columns bearing missing data are to be deleted"
   ]
  },
  {
   "cell_type": "markdown",
   "id": "4f5b4dde",
   "metadata": {},
   "source": [
    "#### Code"
   ]
  },
  {
   "cell_type": "code",
   "execution_count": 16,
   "id": "926ee9ab",
   "metadata": {},
   "outputs": [],
   "source": [
    "df = df.dropna(how='any')"
   ]
  },
  {
   "cell_type": "markdown",
   "id": "8203ec11",
   "metadata": {},
   "source": [
    "#### Confirm"
   ]
  },
  {
   "cell_type": "code",
   "execution_count": 17,
   "id": "f476b904",
   "metadata": {},
   "outputs": [
    {
     "data": {
      "text/plain": [
       "Order               0\n",
       "Customer            0\n",
       "Sales Officer       0\n",
       "Order Date          0\n",
       "Shipping Date       0\n",
       "Priority            0\n",
       "SKU                 0\n",
       "Quantity            0\n",
       "Unit Sell Price     0\n",
       "Discount Percent    0\n",
       "Shipping Cost       0\n",
       "Ship Mode           0\n",
       "dtype: int64"
      ]
     },
     "execution_count": 17,
     "metadata": {},
     "output_type": "execute_result"
    }
   ],
   "source": [
    "df.isna().sum()"
   ]
  },
  {
   "cell_type": "markdown",
   "id": "1c9c20fc",
   "metadata": {},
   "source": [
    "### 5. Split Shipment Mode Column\n",
    "\n",
    "Shipment mode column is to be splited into two column so that one column contains **Shipment Mode** and the other contains the **Container**"
   ]
  },
  {
   "cell_type": "markdown",
   "id": "92390130",
   "metadata": {},
   "source": [
    "#### Code"
   ]
  },
  {
   "cell_type": "code",
   "execution_count": 18,
   "id": "7a9a6a1c",
   "metadata": {
    "scrolled": false
   },
   "outputs": [
    {
     "data": {
      "text/html": [
       "<div>\n",
       "<style scoped>\n",
       "    .dataframe tbody tr th:only-of-type {\n",
       "        vertical-align: middle;\n",
       "    }\n",
       "\n",
       "    .dataframe tbody tr th {\n",
       "        vertical-align: top;\n",
       "    }\n",
       "\n",
       "    .dataframe thead th {\n",
       "        text-align: right;\n",
       "    }\n",
       "</style>\n",
       "<table border=\"1\" class=\"dataframe\">\n",
       "  <thead>\n",
       "    <tr style=\"text-align: right;\">\n",
       "      <th></th>\n",
       "      <th>Order</th>\n",
       "      <th>Customer</th>\n",
       "      <th>Sales Officer</th>\n",
       "      <th>Order Date</th>\n",
       "      <th>Shipping Date</th>\n",
       "      <th>Priority</th>\n",
       "      <th>SKU</th>\n",
       "      <th>Quantity</th>\n",
       "      <th>Unit Sell Price</th>\n",
       "      <th>Discount Percent</th>\n",
       "      <th>Shipping Cost</th>\n",
       "      <th>Shipment Mode</th>\n",
       "      <th>Container</th>\n",
       "    </tr>\n",
       "  </thead>\n",
       "  <tbody>\n",
       "    <tr>\n",
       "      <th>1</th>\n",
       "      <td>29030</td>\n",
       "      <td>C660</td>\n",
       "      <td>Mrs Gail Johnson</td>\n",
       "      <td>2020-01-01 00:00:00</td>\n",
       "      <td>2020-01-02 00:00:00</td>\n",
       "      <td>Medium</td>\n",
       "      <td>SKU814</td>\n",
       "      <td>10</td>\n",
       "      <td>19.84</td>\n",
       "      <td>0.05</td>\n",
       "      <td>4.1</td>\n",
       "      <td>Regular Air</td>\n",
       "      <td>Wrap Bag</td>\n",
       "    </tr>\n",
       "    <tr>\n",
       "      <th>2</th>\n",
       "      <td>47591</td>\n",
       "      <td>C198</td>\n",
       "      <td>Mr Robert Carlton</td>\n",
       "      <td>2020-01-01 00:00:00</td>\n",
       "      <td>2020-01-02 00:00:00</td>\n",
       "      <td>Critical</td>\n",
       "      <td>SKU957</td>\n",
       "      <td>27</td>\n",
       "      <td>10.48</td>\n",
       "      <td>0.1</td>\n",
       "      <td>6.91</td>\n",
       "      <td>Regular Air</td>\n",
       "      <td>Small Box</td>\n",
       "    </tr>\n",
       "    <tr>\n",
       "      <th>3</th>\n",
       "      <td>54214</td>\n",
       "      <td>C628</td>\n",
       "      <td>Mr Robert Carlton</td>\n",
       "      <td>2020-01-01 00:00:00</td>\n",
       "      <td>2020-01-04 00:00:00</td>\n",
       "      <td>Medium</td>\n",
       "      <td>SKU1076</td>\n",
       "      <td>38</td>\n",
       "      <td>199.99</td>\n",
       "      <td>0.04</td>\n",
       "      <td>24.49</td>\n",
       "      <td>Express Air</td>\n",
       "      <td>Large Box</td>\n",
       "    </tr>\n",
       "  </tbody>\n",
       "</table>\n",
       "</div>"
      ],
      "text/plain": [
       "   Order Customer      Sales Officer           Order Date  \\\n",
       "1  29030     C660   Mrs Gail Johnson  2020-01-01 00:00:00   \n",
       "2  47591     C198  Mr Robert Carlton  2020-01-01 00:00:00   \n",
       "3  54214     C628  Mr Robert Carlton  2020-01-01 00:00:00   \n",
       "\n",
       "         Shipping Date  Priority      SKU Quantity Unit Sell Price  \\\n",
       "1  2020-01-02 00:00:00    Medium   SKU814       10           19.84   \n",
       "2  2020-01-02 00:00:00  Critical   SKU957       27           10.48   \n",
       "3  2020-01-04 00:00:00    Medium  SKU1076       38          199.99   \n",
       "\n",
       "  Discount Percent Shipping Cost Shipment Mode   Container  \n",
       "1             0.05           4.1  Regular Air     Wrap Bag  \n",
       "2              0.1          6.91  Regular Air    Small Box  \n",
       "3             0.04         24.49  Express Air    Large Box  "
      ]
     },
     "execution_count": 18,
     "metadata": {},
     "output_type": "execute_result"
    }
   ],
   "source": [
    "# Create two new columns from the Ship Mode column splitting the content into the two new columns\n",
    "for index,row in df.iterrows():\n",
    "    df[\"Shipment Mode\"] = df[\"Ship Mode\"].apply(lambda x: x.split(\"-\")[0])\n",
    "    df[\"Container\"] = df[\"Ship Mode\"].apply(lambda x: x.split(\"-\")[1])\n",
    "\n",
    "# delete the Ship Mode\n",
    "df.drop(columns=['Ship Mode'], axis = 1, inplace=True)\n",
    "\n",
    "\n",
    "df.head(3)\n",
    "    "
   ]
  },
  {
   "cell_type": "markdown",
   "id": "eef67306",
   "metadata": {},
   "source": [
    "## EXPLORATIONAL DATA ANALYSIS\n",
    "EDA Operations will now be carried out on the data frame to extract the necessary data to answer the questions raised above"
   ]
  },
  {
   "cell_type": "markdown",
   "id": "f3cf9fc3",
   "metadata": {},
   "source": [
    "### 1. Total Gross Revenue for the year"
   ]
  },
  {
   "cell_type": "code",
   "execution_count": 19,
   "id": "b413f008",
   "metadata": {
    "scrolled": true
   },
   "outputs": [
    {
     "data": {
      "text/plain": [
       "194895.4"
      ]
     },
     "execution_count": 19,
     "metadata": {},
     "output_type": "execute_result"
    }
   ],
   "source": [
    "total_revenue =  round(df[\"Unit Sell Price\"].sum(), 2)\n",
    "total_revenue"
   ]
  },
  {
   "cell_type": "markdown",
   "id": "ab9fd8bd",
   "metadata": {},
   "source": [
    "### 2. Total Gross Revenue by month"
   ]
  },
  {
   "cell_type": "code",
   "execution_count": 20,
   "id": "ce5ddec1",
   "metadata": {
    "scrolled": true
   },
   "outputs": [
    {
     "data": {
      "text/plain": [
       "16241.28"
      ]
     },
     "execution_count": 20,
     "metadata": {},
     "output_type": "execute_result"
    }
   ],
   "source": [
    "monthly_sales_avg =  round(df[\"Unit Sell Price\"].sum()/12, 2)\n",
    "monthly_sales_avg"
   ]
  },
  {
   "cell_type": "code",
   "execution_count": 21,
   "id": "1f9a7d67",
   "metadata": {},
   "outputs": [
    {
     "data": {
      "text/plain": [
       "7.642747369665448"
      ]
     },
     "execution_count": 21,
     "metadata": {},
     "output_type": "execute_result"
    }
   ],
   "source": [
    "# percentage different between monthly sales target and actual average monthly sales target\n",
    "monthly_sales_target = 15000\n",
    "(1-(monthly_sales_target/monthly_sales_avg))*100"
   ]
  },
  {
   "cell_type": "code",
   "execution_count": 22,
   "id": "5e6f2ffa",
   "metadata": {},
   "outputs": [],
   "source": [
    "# create a month name column extracted from the Order Date column\n",
    "df[\"Month name\"]  = pd.to_datetime(df[\"Order Date\"]).dt.month_name()\n",
    "\n",
    "# create a month order list\n",
    "month_order = [\"January\",\"February\",\"March\",\"April\",\"May\",\"June\",\"July\",\"August\",\n",
    "              \"September\",\"October\",\"November\",\"December\"]\n",
    "reversed_monthly_order = reversed(month_order)\n",
    "\n",
    "# set the created list as the order of the created Month name column\n",
    "df[\"Month name\"] = pd.Categorical(df[\"Month name\"], categories=reversed_monthly_order,\n",
    "                                 ordered=True)\n",
    "\n",
    "# group by month and Sum Unit Sell Price\n",
    "df_grouped_Unit_Sell = df.groupby('Month name')[\"Unit Sell Price\"].sum()"
   ]
  },
  {
   "cell_type": "code",
   "execution_count": 23,
   "id": "7c510230",
   "metadata": {
    "scrolled": true
   },
   "outputs": [
    {
     "data": {
      "text/plain": [
       "Month name\n",
       "December     19836.32\n",
       "November     16239.49\n",
       "October      20853.47\n",
       "September    13935.23\n",
       "August       15305.05\n",
       "July         11758.84\n",
       "June         11976.42\n",
       "May          22241.78\n",
       "April        16910.24\n",
       "March        18830.65\n",
       "February     10647.71\n",
       "January      16360.20\n",
       "Name: Unit Sell Price, dtype: float64"
      ]
     },
     "execution_count": 23,
     "metadata": {},
     "output_type": "execute_result"
    }
   ],
   "source": [
    "df_grouped_Unit_Sell.apply(lambda x: round(x, 2))"
   ]
  },
  {
   "cell_type": "code",
   "execution_count": 24,
   "id": "31750926",
   "metadata": {
    "scrolled": true
   },
   "outputs": [
    {
     "data": {
      "image/png": "[encoded data removed]",
      "text/plain": [
       "<Figure size 640x480 with 1 Axes>"
      ]
     },
     "metadata": {},
     "output_type": "display_data"
    }
   ],
   "source": [
    "\n",
    "ax = df_grouped_Unit_Sell.plot.barh(color=[\"#3333aa\",\"#3333aa\",\"#000055\",\"#ccccee\",\"#3333aa\",\"#ccccee\",\"#ccccee\", \"#000055\",\"#3333aa\",\"#3333aa\",\"#ccccee\",\"#3333aa\"], alpha=0.7,)\n",
    "\n",
    "\n",
    "plt.ylabel(' ',fontsize=12)\n",
    "plt.title('Monthly Revenue 2020 ', fontsize=15)\n",
    "\n",
    "ax.spines['top'].set_visible(False)\n",
    "ax.spines['right'].set_visible(False)\n",
    "ax.spines['bottom'].set_visible(True)\n",
    "ax.spines['left'].set_visible(False)\n",
    "\n",
    "ax.bar_label(ax.containers[0])\n",
    "    \n",
    "ax.grid(axis='x', zorder=0, alpha=0.3,  linestyle='--', linewidth=0.8, color='gray')\n",
    "\n",
    "plt.show()"
   ]
  },
  {
   "cell_type": "markdown",
   "id": "39dd3b37",
   "metadata": {},
   "source": [
    "We surpased 10,000 revenue in all the months. While we were not able to meet the monthly target of 15,000 in the months of February, June, July and September, we were able to it for 8 months and with exceptional monthly revenue in the months of May and October which surpased 20,000 respectively.\n",
    "\n",
    "Also, we made an average monthly revenue of **16,241** surpasing the business target by **7.64\\%.** Revenue peaked in the month of May at **22,241.78**. We closed the year with a total revenue of **194,895**"
   ]
  },
  {
   "cell_type": "markdown",
   "id": "b2ac35e9",
   "metadata": {},
   "source": [
    "### Quartely Sales Analysis"
   ]
  },
  {
   "cell_type": "code",
   "execution_count": 25,
   "id": "2b947d2a",
   "metadata": {},
   "outputs": [],
   "source": [
    "# extracting quarter number from date\n",
    "df[\"quarters\"] = pd.to_datetime(df[\"Order Date\"]).dt.quarter\n"
   ]
  },
  {
   "cell_type": "code",
   "execution_count": 26,
   "id": "e2ae3ef3",
   "metadata": {
    "scrolled": true
   },
   "outputs": [
    {
     "data": {
      "text/plain": [
       "quarters\n",
       "1    45838.56\n",
       "2    51128.44\n",
       "3    40999.12\n",
       "4    56929.28\n",
       "Name: Unit Sell Price, dtype: object"
      ]
     },
     "execution_count": 26,
     "metadata": {},
     "output_type": "execute_result"
    }
   ],
   "source": [
    "# quartely sales data\n",
    "df_quarters_sold = df.groupby('quarters')[\"Unit Sell Price\"].sum()\n",
    "\n",
    "df_quarters_sold = df_quarters_sold\n",
    "df_quarters_sold"
   ]
  },
  {
   "cell_type": "code",
   "execution_count": 27,
   "id": "1b2b16be",
   "metadata": {},
   "outputs": [
    {
     "data": {
      "text/plain": [
       "48723.85"
      ]
     },
     "execution_count": 27,
     "metadata": {},
     "output_type": "execute_result"
    }
   ],
   "source": [
    "# average quarterly revenue\n",
    "df_quarters_avg = round(df['Unit Sell Price'].sum()/4,2)\n",
    "df_quarters_avg"
   ]
  },
  {
   "cell_type": "code",
   "execution_count": 28,
   "id": "ad761d4d",
   "metadata": {},
   "outputs": [
    {
     "data": {
      "text/plain": [
       "7.6427663249106885"
      ]
     },
     "execution_count": 28,
     "metadata": {},
     "output_type": "execute_result"
    }
   ],
   "source": [
    "# percentage different between quarterly sales target and actual sales target\n",
    "quarterly_sales_target = 15000*3\n",
    "(1-(quarterly_sales_target/df_quarters_avg))*100"
   ]
  },
  {
   "cell_type": "code",
   "execution_count": 29,
   "id": "83f8b976",
   "metadata": {},
   "outputs": [
    {
     "data": {
      "text/plain": [
       "29.21"
      ]
     },
     "execution_count": 29,
     "metadata": {},
     "output_type": "execute_result"
    }
   ],
   "source": [
    "# percentage of quarter to the annual revenue\n",
    "qtr4_percentage_to_annual_revenue = round((df_quarters_sold[4]/total_revenue)*100, 2)\n",
    "qtr4_percentage_to_annual_revenue"
   ]
  },
  {
   "cell_type": "code",
   "execution_count": 30,
   "id": "30852c05",
   "metadata": {},
   "outputs": [
    {
     "data": {
      "text/plain": [
       "126.51"
      ]
     },
     "execution_count": 30,
     "metadata": {},
     "output_type": "execute_result"
    }
   ],
   "source": [
    "qtr4_percentage_to_quarterly_revenue_target = round((df_quarters_sold[4]/quarterly_sales_target)*100,2)\n",
    "\n",
    "qtr4_percentage_to_quarterly_revenue_target\n"
   ]
  },
  {
   "cell_type": "code",
   "execution_count": 31,
   "id": "16cc889c",
   "metadata": {
    "scrolled": false
   },
   "outputs": [
    {
     "data": {
      "image/png": "[encoded data removed]",
      "text/plain": [
       "<Figure size 640x480 with 1 Axes>"
      ]
     },
     "metadata": {},
     "output_type": "display_data"
    }
   ],
   "source": [
    "\n",
    "ax = df_quarters_sold.plot(kind=\"bar\", color=[\"#ccccee\",\"#ccccee\",\"#ccccee\",\"#000055\"], width=0.7,align=\"center\", legend=False, xlim=(1, 4))\n",
    "\n",
    "\n",
    "plt.xticks(rotation=0)\n",
    "plt.ylabel(\"\")\n",
    "plt.xlabel(\"\")\n",
    "\n",
    "ax.bar_label(ax.containers[0])\n",
    "plt.title(\"Quarter 4 is the top performing Quarter\")\n",
    "\n",
    "\n",
    "ax.spines[\"top\"].set_visible(False)\n",
    "ax.spines[\"right\"].set_visible(False)\n",
    "\n",
    "plt.show()"
   ]
  },
  {
   "cell_type": "markdown",
   "id": "bac27d74",
   "metadata": {},
   "source": [
    "Quarter 4 is the top performing quarter with 56.9k in revenue accounting for 29% of the annual revenue. In quarter 4 we exceed the quarterly target by 26.51%."
   ]
  },
  {
   "cell_type": "markdown",
   "id": "6f03490f",
   "metadata": {},
   "source": [
    "### 3. Total Volume sold for the year"
   ]
  },
  {
   "cell_type": "code",
   "execution_count": 32,
   "id": "a7b89e97",
   "metadata": {},
   "outputs": [
    {
     "name": "stdout",
     "output_type": "stream",
     "text": [
      "54083\n"
     ]
    }
   ],
   "source": [
    "total_quantity =  df[\"Quantity\"].sum()\n",
    "print(total_quantity)"
   ]
  },
  {
   "cell_type": "code",
   "execution_count": 33,
   "id": "3d57a396",
   "metadata": {},
   "outputs": [
    {
     "name": "stdout",
     "output_type": "stream",
     "text": [
      "4506.92\n"
     ]
    }
   ],
   "source": [
    "monthly_avg_quantity =  df[\"Quantity\"].sum()/12\n",
    "print(round(monthly_avg_quantity, 2))"
   ]
  },
  {
   "cell_type": "markdown",
   "id": "bccfd200",
   "metadata": {},
   "source": [
    "### 4. Total Volume Sold by month"
   ]
  },
  {
   "cell_type": "code",
   "execution_count": 34,
   "id": "2828d020",
   "metadata": {},
   "outputs": [],
   "source": [
    "# group by month and Quantity\n",
    "df_grouped_Quantity = df.groupby('Month name')[\"Quantity\"].sum()"
   ]
  },
  {
   "cell_type": "code",
   "execution_count": 35,
   "id": "3e1bf6ff",
   "metadata": {},
   "outputs": [
    {
     "data": {
      "text/plain": [
       "Month name\n",
       "December     3960\n",
       "November     3355\n",
       "October      5124\n",
       "September    5236\n",
       "August       4848\n",
       "July         4419\n",
       "June         3911\n",
       "May          5607\n",
       "April        4535\n",
       "March        4837\n",
       "February     4000\n",
       "January      4251\n",
       "Name: Quantity, dtype: object"
      ]
     },
     "execution_count": 35,
     "metadata": {},
     "output_type": "execute_result"
    }
   ],
   "source": [
    "df_grouped_Quantity"
   ]
  },
  {
   "cell_type": "code",
   "execution_count": 36,
   "id": "757a405f",
   "metadata": {
    "scrolled": true
   },
   "outputs": [
    {
     "data": {
      "image/png": "[encoded data removed]",
      "text/plain": [
       "<Figure size 640x480 with 1 Axes>"
      ]
     },
     "metadata": {},
     "output_type": "display_data"
    }
   ],
   "source": [
    "# Creating the plot for Quantity\n",
    "ax = df_grouped_Quantity.plot.barh(color=[\"#ccccee\",\"#ccccee\",\"#000055\",\"#000055\",'#3333aa',\n",
    "                                       '#3333aa',\"#ccccee\", \"#000055\",'#3333aa','#3333aa','#3333aa','#3333aa'], alpha=0.7,)\n",
    "\n",
    "plt.ylabel(' ',fontsize=12)\n",
    "plt.title('Volume sold per month ', fontsize=15)\n",
    "\n",
    "ax.spines['top'].set_visible(False)\n",
    "ax.spines['right'].set_visible(False)\n",
    "ax.spines['bottom'].set_visible(True)\n",
    "ax.spines['left'].set_visible(False)\n",
    "\n",
    "ax.bar_label(ax.containers[0])\n",
    "    \n",
    "ax.grid(axis='x', zorder=0, alpha=0.3,  linestyle='--', linewidth=0.8, color='gray')\n",
    "\n",
    "plt.show()"
   ]
  },
  {
   "cell_type": "markdown",
   "id": "6114c184",
   "metadata": {},
   "source": [
    "Above is a bar chat showing the monthly volume sold. While we were not able to meet the monthly target of 4000 in the months of June, November and December, we were able to it for 9 months and with exceptional volume above 5000 done in the months of May, September and October which surpased respectively.\n",
    "\n",
    "Also, we did average monthly volume of **4506** surpasing the business target of 4500 by **0.001\\%.** Monthly volume peaked in the month of May with 5607. We closed the year with a volume of **54083** sold"
   ]
  },
  {
   "cell_type": "markdown",
   "id": "56afb36d",
   "metadata": {},
   "source": [
    "## Quarterly Volume Analysis"
   ]
  },
  {
   "cell_type": "code",
   "execution_count": 37,
   "id": "a7e93f14",
   "metadata": {
    "scrolled": true
   },
   "outputs": [
    {
     "data": {
      "text/plain": [
       "quarters\n",
       "1    13088\n",
       "2    14053\n",
       "3    14503\n",
       "4    12439\n",
       "Name: Quantity, dtype: object"
      ]
     },
     "execution_count": 37,
     "metadata": {},
     "output_type": "execute_result"
    }
   ],
   "source": [
    "# quartely volume data\n",
    "df_quarters_sold = df.groupby('quarters')[\"Quantity\"].sum()\n",
    "\n",
    "df_quarters_sold = df_quarters_sold\n",
    "df_quarters_sold"
   ]
  },
  {
   "cell_type": "code",
   "execution_count": 38,
   "id": "eff65388",
   "metadata": {},
   "outputs": [
    {
     "data": {
      "text/plain": [
       "13520.75"
      ]
     },
     "execution_count": 38,
     "metadata": {},
     "output_type": "execute_result"
    }
   ],
   "source": [
    "# average quarterly volume\n",
    "df_quarters_vol_avg = round(df['Quantity'].sum()/4,2)\n",
    "df_quarters_vol_avg"
   ]
  },
  {
   "cell_type": "code",
   "execution_count": 39,
   "id": "517772ed",
   "metadata": {},
   "outputs": [
    {
     "data": {
      "text/plain": [
       "0.15"
      ]
     },
     "execution_count": 39,
     "metadata": {},
     "output_type": "execute_result"
    }
   ],
   "source": [
    "# percentage different between quarterly volume target and actual volume target\n",
    "quarterly_volume_target = 4500*3\n",
    "round((1-(quarterly_volume_target/df_quarters_vol_avg))*100,2)"
   ]
  },
  {
   "cell_type": "markdown",
   "id": "a1c65eb9",
   "metadata": {},
   "source": [
    "## Product Analysis"
   ]
  },
  {
   "cell_type": "code",
   "execution_count": 40,
   "id": "deaa65fd",
   "metadata": {},
   "outputs": [
    {
     "data": {
      "text/plain": [
       "958"
      ]
     },
     "execution_count": 40,
     "metadata": {},
     "output_type": "execute_result"
    }
   ],
   "source": [
    "# Total number of products \n",
    "df[\"SKU\"].nunique()"
   ]
  },
  {
   "cell_type": "code",
   "execution_count": 41,
   "id": "cfb66c9c",
   "metadata": {
    "scrolled": true
   },
   "outputs": [
    {
     "data": {
      "text/html": [
       "<div>\n",
       "<style scoped>\n",
       "    .dataframe tbody tr th:only-of-type {\n",
       "        vertical-align: middle;\n",
       "    }\n",
       "\n",
       "    .dataframe tbody tr th {\n",
       "        vertical-align: top;\n",
       "    }\n",
       "\n",
       "    .dataframe thead th {\n",
       "        text-align: right;\n",
       "    }\n",
       "</style>\n",
       "<table border=\"1\" class=\"dataframe\">\n",
       "  <thead>\n",
       "    <tr style=\"text-align: right;\">\n",
       "      <th></th>\n",
       "      <th>Unit Sell Price</th>\n",
       "    </tr>\n",
       "    <tr>\n",
       "      <th>SKU</th>\n",
       "      <th></th>\n",
       "    </tr>\n",
       "  </thead>\n",
       "  <tbody>\n",
       "    <tr>\n",
       "      <th>SKU1129</th>\n",
       "      <td>9690.1</td>\n",
       "    </tr>\n",
       "    <tr>\n",
       "      <th>SKU1096</th>\n",
       "      <td>7650.42</td>\n",
       "    </tr>\n",
       "    <tr>\n",
       "      <th>SKU1121</th>\n",
       "      <td>7004.28</td>\n",
       "    </tr>\n",
       "    <tr>\n",
       "      <th>SKU1072</th>\n",
       "      <td>6999.98</td>\n",
       "    </tr>\n",
       "    <tr>\n",
       "      <th>SKU1130</th>\n",
       "      <td>6783.02</td>\n",
       "    </tr>\n",
       "  </tbody>\n",
       "</table>\n",
       "</div>"
      ],
      "text/plain": [
       "        Unit Sell Price\n",
       "SKU                    \n",
       "SKU1129          9690.1\n",
       "SKU1096         7650.42\n",
       "SKU1121         7004.28\n",
       "SKU1072         6999.98\n",
       "SKU1130         6783.02"
      ]
     },
     "execution_count": 41,
     "metadata": {},
     "output_type": "execute_result"
    }
   ],
   "source": [
    "df_top_SKU = pd.DataFrame(df.groupby('SKU')[\"Unit Sell Price\"].sum())\n",
    "df_top5_products = df_top_SKU.sort_values(ascending=False, by=\"Unit Sell Price\").head(5)\n",
    "df_top5_products\n"
   ]
  },
  {
   "cell_type": "code",
   "execution_count": 42,
   "id": "1117391f",
   "metadata": {},
   "outputs": [
    {
     "data": {
      "text/plain": [
       "Unit Sell Price    38127.8\n",
       "dtype: object"
      ]
     },
     "execution_count": 42,
     "metadata": {},
     "output_type": "execute_result"
    }
   ],
   "source": [
    "# Revenue from top 5 products\n",
    "df_top5_products.sum()"
   ]
  },
  {
   "cell_type": "code",
   "execution_count": 43,
   "id": "ee8420ab",
   "metadata": {},
   "outputs": [
    {
     "data": {
      "text/plain": [
       "Unit Sell Price    7625.56\n",
       "dtype: float64"
      ]
     },
     "execution_count": 43,
     "metadata": {},
     "output_type": "execute_result"
    }
   ],
   "source": [
    "df_top5_products.mean()"
   ]
  },
  {
   "cell_type": "code",
   "execution_count": 44,
   "id": "8bb2062a",
   "metadata": {},
   "outputs": [
    {
     "data": {
      "text/plain": [
       "Unit Sell Price    19.563212\n",
       "dtype: object"
      ]
     },
     "execution_count": 44,
     "metadata": {},
     "output_type": "execute_result"
    }
   ],
   "source": [
    "# percentage of top5 products of the total revenue\n",
    "(df_top5_products.sum()/df['Unit Sell Price'].sum())*100"
   ]
  },
  {
   "cell_type": "code",
   "execution_count": 45,
   "id": "12659e39",
   "metadata": {},
   "outputs": [
    {
     "data": {
      "text/html": [
       "<div>\n",
       "<style scoped>\n",
       "    .dataframe tbody tr th:only-of-type {\n",
       "        vertical-align: middle;\n",
       "    }\n",
       "\n",
       "    .dataframe tbody tr th {\n",
       "        vertical-align: top;\n",
       "    }\n",
       "\n",
       "    .dataframe thead th {\n",
       "        text-align: right;\n",
       "    }\n",
       "</style>\n",
       "<table border=\"1\" class=\"dataframe\">\n",
       "  <thead>\n",
       "    <tr style=\"text-align: right;\">\n",
       "      <th></th>\n",
       "      <th>Unit Sell Price</th>\n",
       "    </tr>\n",
       "    <tr>\n",
       "      <th>SKU</th>\n",
       "      <th></th>\n",
       "    </tr>\n",
       "  </thead>\n",
       "  <tbody>\n",
       "    <tr>\n",
       "      <th>SKU141</th>\n",
       "      <td>1.74</td>\n",
       "    </tr>\n",
       "    <tr>\n",
       "      <th>SKU978</th>\n",
       "      <td>1.7</td>\n",
       "    </tr>\n",
       "    <tr>\n",
       "      <th>SKU788</th>\n",
       "      <td>1.68</td>\n",
       "    </tr>\n",
       "    <tr>\n",
       "      <th>SKU812</th>\n",
       "      <td>1.68</td>\n",
       "    </tr>\n",
       "    <tr>\n",
       "      <th>SKU1052</th>\n",
       "      <td>0.99</td>\n",
       "    </tr>\n",
       "  </tbody>\n",
       "</table>\n",
       "</div>"
      ],
      "text/plain": [
       "        Unit Sell Price\n",
       "SKU                    \n",
       "SKU141             1.74\n",
       "SKU978              1.7\n",
       "SKU788             1.68\n",
       "SKU812             1.68\n",
       "SKU1052            0.99"
      ]
     },
     "execution_count": 45,
     "metadata": {},
     "output_type": "execute_result"
    }
   ],
   "source": [
    "df_bottom5_products = df_top_SKU.sort_values(ascending=False, by=\"Unit Sell Price\").tail(5)\n",
    "df_bottom5_products"
   ]
  },
  {
   "cell_type": "code",
   "execution_count": 46,
   "id": "bed3d62c",
   "metadata": {},
   "outputs": [
    {
     "data": {
      "text/plain": [
       "Unit Sell Price    7.79\n",
       "dtype: object"
      ]
     },
     "execution_count": 46,
     "metadata": {},
     "output_type": "execute_result"
    }
   ],
   "source": [
    "# Revenue from bottom 5 products\n",
    "df_bottom5_products.sum()"
   ]
  },
  {
   "cell_type": "code",
   "execution_count": 47,
   "id": "8965de0a",
   "metadata": {},
   "outputs": [
    {
     "data": {
      "text/plain": [
       "Unit Sell Price    1.558\n",
       "dtype: float64"
      ]
     },
     "execution_count": 47,
     "metadata": {},
     "output_type": "execute_result"
    }
   ],
   "source": [
    "# Average Revenue from bottom 5 products\n",
    "df_bottom5_products.mean()"
   ]
  },
  {
   "cell_type": "code",
   "execution_count": 48,
   "id": "cccbb6ed",
   "metadata": {},
   "outputs": [
    {
     "data": {
      "text/plain": [
       "Unit Sell Price    0.003997\n",
       "dtype: object"
      ]
     },
     "execution_count": 48,
     "metadata": {},
     "output_type": "execute_result"
    }
   ],
   "source": [
    "# percentage of top5 products of the total revenue\n",
    "(df_bottom5_products.sum()/df['Unit Sell Price'].sum())*100"
   ]
  },
  {
   "cell_type": "markdown",
   "id": "e6ec8b34",
   "metadata": {},
   "source": [
    "### 5. Quantity sold by each Sales Officer"
   ]
  },
  {
   "cell_type": "code",
   "execution_count": 49,
   "id": "5f77181f",
   "metadata": {
    "scrolled": true
   },
   "outputs": [
    {
     "data": {
      "text/plain": [
       "Mr Robert Carlton     742\n",
       "Miss Roseanna Marr    697\n",
       "Mrs Gail Johnson      651\n",
       "Name: Sales Officer, dtype: int64"
      ]
     },
     "execution_count": 49,
     "metadata": {},
     "output_type": "execute_result"
    }
   ],
   "source": [
    "df['Sales Officer'].value_counts()"
   ]
  },
  {
   "cell_type": "code",
   "execution_count": 50,
   "id": "a07dbc5d",
   "metadata": {},
   "outputs": [],
   "source": [
    "df_sales_officers_vol = pd.DataFrame(df['Sales Officer'].value_counts())"
   ]
  },
  {
   "cell_type": "markdown",
   "id": "1a022846",
   "metadata": {},
   "source": [
    "### 6. Average time (in days) of Order fulfilment for the year"
   ]
  },
  {
   "cell_type": "code",
   "execution_count": 51,
   "id": "9bf0d9b4",
   "metadata": {},
   "outputs": [],
   "source": [
    "# copy the original dataframe to carry exploration for fulfilment\n",
    "df_fulfilment = df.copy()"
   ]
  },
  {
   "cell_type": "code",
   "execution_count": 52,
   "id": "3faa9f21",
   "metadata": {},
   "outputs": [
    {
     "data": {
      "text/plain": [
       "Timedelta('2 days 00:14:28.133971291')"
      ]
     },
     "execution_count": 52,
     "metadata": {},
     "output_type": "execute_result"
    }
   ],
   "source": [
    "# create a 'days to fulfilment' column\n",
    "df_fulfilment['days to fulfilment'] = df_fulfilment['Shipping Date'] - df_fulfilment['Order Date']\n",
    "\n",
    "# average day to it takes to fulfil an order\n",
    "df_fulfilment['days to fulfilment'].mean()\n"
   ]
  },
  {
   "cell_type": "markdown",
   "id": "24017d5b",
   "metadata": {},
   "source": [
    "### 7. Average time (in days) of order fulfilment per month"
   ]
  },
  {
   "cell_type": "code",
   "execution_count": 53,
   "id": "81e3384b",
   "metadata": {
    "scrolled": true
   },
   "outputs": [
    {
     "data": {
      "text/plain": [
       "Month name\n",
       "December     1 days 16:55:23.076923076\n",
       "November     2 days 04:10:54.545454545\n",
       "October      1 days 19:46:44.020100502\n",
       "September    2 days 03:10:03.045685279\n",
       "August       1 days 22:48:23.867403314\n",
       "July         2 days 05:34:17.142857142\n",
       "June         1 days 20:03:09.473684210\n",
       "May          2 days 03:29:34.647887323\n",
       "April        1 days 20:42:11.868131868\n",
       "March        2 days 01:05:47.208121827\n",
       "February     2 days 04:46:01.643835616\n",
       "January      2 days 00:34:29.461077844\n",
       "Name: days to fulfilment, dtype: object"
      ]
     },
     "execution_count": 53,
     "metadata": {},
     "output_type": "execute_result"
    }
   ],
   "source": [
    "# get the 'days to fulfilment' average for each month\n",
    "\n",
    "df_monthly_fulfilment = df_fulfilment.groupby('Month name')['days to fulfilment'].mean()\n",
    "df_monthly_fulfil = df_monthly_fulfilment.astype(str)\n",
    "\n",
    "# df_monthly_fulfil.str.extract(r'(.)')\n",
    "\n",
    "df_monthly_fulfil"
   ]
  },
  {
   "cell_type": "markdown",
   "id": "0360b87c",
   "metadata": {},
   "source": [
    "### 8.  Average time (in days) by each Sales person for the year"
   ]
  },
  {
   "cell_type": "code",
   "execution_count": 54,
   "id": "c7949b7e",
   "metadata": {
    "scrolled": true
   },
   "outputs": [
    {
     "data": {
      "text/plain": [
       "Sales Officer\n",
       "Miss Roseanna Marr   2 days 01:06:06.714490674\n",
       "Mr Robert Carlton    1 days 22:38:29.433962264\n",
       "Mrs Gail Johnson     2 days 01:08:34.285714285\n",
       "Name: days to fulfilment, dtype: timedelta64[ns]"
      ]
     },
     "execution_count": 54,
     "metadata": {},
     "output_type": "execute_result"
    }
   ],
   "source": [
    "# get the 'days to fulfilment' average for each month\n",
    "\n",
    "df_monthly_fulfilment = df_fulfilment.groupby('Sales Officer')['days to fulfilment'].mean()\n",
    "df_monthly_fulfilment"
   ]
  },
  {
   "cell_type": "markdown",
   "id": "7c8685b4",
   "metadata": {},
   "source": [
    "### 9. Percentage of same day fulfilment of orders"
   ]
  },
  {
   "cell_type": "code",
   "execution_count": 55,
   "id": "20f5f48e",
   "metadata": {
    "scrolled": true
   },
   "outputs": [],
   "source": [
    "\n",
    "df_fulfilment['days to fulfilment conv'] = df_fulfilment['days to fulfilment'].astype('string')\n",
    "\n",
    "# create a yes/no column ('same day fulfilment')\n",
    "df_fulfilment['same day fulfilment'] = df_fulfilment['days to fulfilment conv'].apply(lambda x: 'Yes' if x == \"0 days\" else 'No' )\n",
    "\n"
   ]
  },
  {
   "cell_type": "code",
   "execution_count": 56,
   "id": "13981946",
   "metadata": {},
   "outputs": [
    {
     "data": {
      "text/plain": [
       "Order                      238\n",
       "Customer                   238\n",
       "Sales Officer              238\n",
       "Order Date                 238\n",
       "Shipping Date              238\n",
       "Priority                   238\n",
       "SKU                        238\n",
       "Quantity                   238\n",
       "Unit Sell Price            238\n",
       "Discount Percent           238\n",
       "Shipping Cost              238\n",
       "Shipment Mode              238\n",
       "Container                  238\n",
       "Month name                 238\n",
       "quarters                   238\n",
       "days to fulfilment         238\n",
       "days to fulfilment conv    238\n",
       "same day fulfilment        238\n",
       "dtype: int64"
      ]
     },
     "execution_count": 56,
     "metadata": {},
     "output_type": "execute_result"
    }
   ],
   "source": [
    "df_fulfilment[df_fulfilment[\"same day fulfilment\"] == \"Yes\"].count()"
   ]
  },
  {
   "cell_type": "code",
   "execution_count": 57,
   "id": "a4633a68",
   "metadata": {},
   "outputs": [
    {
     "data": {
      "text/plain": [
       "No     393\n",
       "Yes     52\n",
       "Name: same day fulfilment, dtype: int64"
      ]
     },
     "execution_count": 57,
     "metadata": {},
     "output_type": "execute_result"
    }
   ],
   "source": [
    "high_orders = df_fulfilment.query('Priority == \"High\"')\n",
    "high_orders['same day fulfilment'].value_counts()\n",
    "\n"
   ]
  },
  {
   "cell_type": "code",
   "execution_count": 58,
   "id": "0ba0710e",
   "metadata": {},
   "outputs": [
    {
     "data": {
      "text/plain": [
       "No     378\n",
       "Yes     33\n",
       "Name: same day fulfilment, dtype: int64"
      ]
     },
     "execution_count": 58,
     "metadata": {},
     "output_type": "execute_result"
    }
   ],
   "source": [
    "critical_orders = df_fulfilment.query('Priority == \"Critical\"')\n",
    "critical_orders['same day fulfilment'].value_counts()"
   ]
  },
  {
   "cell_type": "code",
   "execution_count": 59,
   "id": "34b03380",
   "metadata": {},
   "outputs": [
    {
     "data": {
      "text/plain": [
       "No     349\n",
       "Yes     38\n",
       "Name: same day fulfilment, dtype: int64"
      ]
     },
     "execution_count": 59,
     "metadata": {},
     "output_type": "execute_result"
    }
   ],
   "source": [
    "medium_orders = df_fulfilment.query('Priority == \"Medium\"')\n",
    "medium_orders['same day fulfilment'].value_counts()"
   ]
  },
  {
   "cell_type": "code",
   "execution_count": 60,
   "id": "83aafc90",
   "metadata": {},
   "outputs": [
    {
     "data": {
      "text/plain": [
       "No     365\n",
       "Yes     61\n",
       "Name: same day fulfilment, dtype: int64"
      ]
     },
     "execution_count": 60,
     "metadata": {},
     "output_type": "execute_result"
    }
   ],
   "source": [
    "low_orders = df_fulfilment.query('Priority == \"Low\"')\n",
    "low_orders['same day fulfilment'].value_counts()"
   ]
  },
  {
   "cell_type": "code",
   "execution_count": 61,
   "id": "65d18ac6",
   "metadata": {},
   "outputs": [
    {
     "data": {
      "image/png": "[encoded data removed]",
      "text/plain": [
       "<Figure size 640x480 with 1 Axes>"
      ]
     },
     "metadata": {},
     "output_type": "display_data"
    }
   ],
   "source": [
    "# Stack Bar Chart with absolute values\n",
    "\n",
    "data = {\n",
    "        \"No\":[\n",
    "            high_orders['same day fulfilment'].value_counts()[0], \n",
    "            critical_orders['same day fulfilment'].value_counts()[0],\n",
    "            medium_orders['same day fulfilment'].value_counts()[0], \n",
    "            low_orders['same day fulfilment'].value_counts()[0],\n",
    "\n",
    "            \n",
    "            ],\n",
    "            \"Yes\": [\n",
    "            high_orders['same day fulfilment'].value_counts()[1], \n",
    "            critical_orders['same day fulfilment'].value_counts()[1],\n",
    "            medium_orders['same day fulfilment'].value_counts()[1], \n",
    "            low_orders['same day fulfilment'].value_counts()[1],\n",
    "\n",
    "            ]\n",
    "        }\n",
    "\n",
    "\n",
    "index = [\"High\", \"Critical\",\"Medium\",\"Low\"]\n",
    "\n",
    "df_plot = pd.DataFrame(data, index=index)\n",
    "\n",
    "\n",
    "ax = df_plot.plot.bar(color=['#3333aa','#000055'], stacked=True, ylabel=\"\")\n",
    "plt.title(\"Same Day order fulfilment vs Other orders\")\n",
    "plt.xticks(rotation=0)\n",
    "\n",
    "ax.spines['top'].set_visible(False)\n",
    "ax.spines['right'].set_visible(False)\n",
    "ax.spines['bottom'].set_visible(True)\n",
    "ax.spines['left'].set_visible(False)\n",
    "\n",
    "ax.legend(bbox_to_anchor=(1, 1))\n",
    "\n",
    "for container in ax.containers:\n",
    "    ax.bar_label(container, label_type=\"center\", color='white')\n"
   ]
  },
  {
   "cell_type": "code",
   "execution_count": 62,
   "id": "039ac07e",
   "metadata": {},
   "outputs": [
    {
     "data": {
      "image/png": "[encoded data removed]",
      "text/plain": [
       "<Figure size 1000x600 with 1 Axes>"
      ]
     },
     "metadata": {},
     "output_type": "display_data"
    }
   ],
   "source": [
    "# Stacked Bar Chart in percentage\n",
    "\n",
    "data = {\n",
    "        \"No\":[\n",
    "            high_orders['same day fulfilment'].value_counts()[0], \n",
    "            critical_orders['same day fulfilment'].value_counts()[0],\n",
    "            medium_orders['same day fulfilment'].value_counts()[0], \n",
    "            low_orders['same day fulfilment'].value_counts()[0],\n",
    "            \n",
    "            ],\n",
    "            \"Yes\": [\n",
    "            high_orders['same day fulfilment'].value_counts()[1], \n",
    "            critical_orders['same day fulfilment'].value_counts()[1],\n",
    "            medium_orders['same day fulfilment'].value_counts()[1], \n",
    "            low_orders['same day fulfilment'].value_counts()[1],\n",
    "            ]\n",
    "        }\n",
    "\n",
    "\n",
    "index = [\"High\", \"Critical\",\"Medium\",\"Low\"]\n",
    "\n",
    "the_da = pd.DataFrame(data, index=index)\n",
    "the_da_norm = the_da.div(the_da.sum(axis=1), axis=0)\n",
    "\n",
    "\n",
    "ax = the_da_norm.plot.bar(color=['#3333aa','#000055'], stacked=True, width=0.5, figsize=(10,6))\n",
    "ax.spines['top'].set_visible(False)\n",
    "ax.spines['right'].set_visible(False)\n",
    "ax.spines['bottom'].set_visible(True)\n",
    "ax.spines['left'].set_visible(True)\n",
    "\n",
    "plt.title(\"Percentage of Same Day fulfilled Orders to other Orders\")\n",
    "plt.xticks(rotation=0)\n",
    "\n",
    "ax.legend(bbox_to_anchor=(1, 1))\n",
    "\n",
    "for container in ax.containers:\n",
    "    ax.bar_label(container, label_type=\"center\", color='white')"
   ]
  },
  {
   "cell_type": "markdown",
   "id": "aec5c14c",
   "metadata": {},
   "source": [
    "Sales Officers need to indeed prioritize High and Critical orders. From the chart above the percentage of same day fulfilled Orders in High and Critical Priority Orders which is 12% and 8% respectively are less than that of Low Priority orders which is 14%. While we double up effort to ensure all Orders are filled on time across priotities, we need to ensure that High and Critical priority orders are given the attention they need. \n"
   ]
  },
  {
   "cell_type": "code",
   "execution_count": 63,
   "id": "33a6a158",
   "metadata": {},
   "outputs": [
    {
     "data": {
      "text/plain": [
       "Mr Robert Carlton     742\n",
       "Miss Roseanna Marr    697\n",
       "Mrs Gail Johnson      651\n",
       "Name: Sales Officer, dtype: int64"
      ]
     },
     "execution_count": 63,
     "metadata": {},
     "output_type": "execute_result"
    }
   ],
   "source": [
    "df['Sales Officer'].value_counts()"
   ]
  },
  {
   "cell_type": "markdown",
   "id": "4e49830e",
   "metadata": {},
   "source": [
    "### 10. Same day fulfilment of orders by Sales Officer"
   ]
  },
  {
   "cell_type": "code",
   "execution_count": 64,
   "id": "c7987c96",
   "metadata": {
    "scrolled": true
   },
   "outputs": [
    {
     "data": {
      "text/plain": [
       "No     654\n",
       "Yes     88\n",
       "Name: same day fulfilment, dtype: int64"
      ]
     },
     "execution_count": 64,
     "metadata": {},
     "output_type": "execute_result"
    }
   ],
   "source": [
    "RobertCarlton = df_fulfilment.query('`Sales Officer` == \"Mr Robert Carlton\"')\n",
    "RobertCarlton['same day fulfilment'].value_counts()"
   ]
  },
  {
   "cell_type": "code",
   "execution_count": 65,
   "id": "c79706a1",
   "metadata": {},
   "outputs": [
    {
     "data": {
      "text/plain": [
       "No     620\n",
       "Yes     77\n",
       "Name: same day fulfilment, dtype: int64"
      ]
     },
     "execution_count": 65,
     "metadata": {},
     "output_type": "execute_result"
    }
   ],
   "source": [
    "RoseannaMarr = df_fulfilment.query('`Sales Officer` == \"Miss Roseanna Marr\"')\n",
    "RoseannaMarr['same day fulfilment'].value_counts()"
   ]
  },
  {
   "cell_type": "code",
   "execution_count": 66,
   "id": "0be719b0",
   "metadata": {
    "scrolled": true
   },
   "outputs": [
    {
     "data": {
      "text/plain": [
       "No     578\n",
       "Yes     73\n",
       "Name: same day fulfilment, dtype: int64"
      ]
     },
     "execution_count": 66,
     "metadata": {},
     "output_type": "execute_result"
    }
   ],
   "source": [
    "GailJohnson = df_fulfilment.query('`Sales Officer` == \"Mrs Gail Johnson\"')\n",
    "GailJohnson['same day fulfilment'].value_counts()"
   ]
  },
  {
   "cell_type": "code",
   "execution_count": 67,
   "id": "328d5692",
   "metadata": {},
   "outputs": [
    {
     "data": {
      "image/png": "[encoded data removed]",
      "text/plain": [
       "<Figure size 1000x600 with 1 Axes>"
      ]
     },
     "metadata": {},
     "output_type": "display_data"
    }
   ],
   "source": [
    "\n",
    "    # Stacked Bar Chart in percentage\n",
    "\n",
    "data = {\n",
    "            \"No\":[\n",
    "            RobertCarlton['same day fulfilment'].value_counts()[0], \n",
    "            RoseannaMarr['same day fulfilment'].value_counts()[0],\n",
    "            GailJohnson['same day fulfilment'].value_counts()[0]\n",
    "            \n",
    "            ],\n",
    "            \"Yes\": [\n",
    "            RobertCarlton['same day fulfilment'].value_counts()[1], \n",
    "            RoseannaMarr['same day fulfilment'].value_counts()[1],\n",
    "            GailJohnson['same day fulfilment'].value_counts()[1]\n",
    "            ]\n",
    "        }\n",
    "\n",
    "\n",
    "index = [\"Mr Robert Carlton\", \"Miss Roseanna Marr\",\"Mrs Gail Johnson\"]\n",
    "\n",
    "Sales_officers_sameday = pd.DataFrame(data, index=index)\n",
    "\n",
    "\n",
    "\n",
    "ax = Sales_officers_sameday.plot.bar(color=['#3333aa','#000055'], stacked=True, width=0.5, figsize=(10,6))\n",
    "ax.spines['top'].set_visible(False)\n",
    "ax.spines['right'].set_visible(False)\n",
    "ax.spines['bottom'].set_visible(True)\n",
    "ax.spines['left'].set_visible(True)\n",
    "\n",
    "plt.title(\"Same Day fulfilled Orders by Sales Officers\")\n",
    "plt.xticks(rotation=0, ha='center')\n",
    "\n",
    "ax.legend(bbox_to_anchor=(1, 1))\n",
    "\n",
    "    for container in ax.containers:\n",
    "        ax.bar_label(container, label_type=\"center\", color='white')"
   ]
  },
  {
   "cell_type": "code",
   "execution_count": 68,
   "id": "702aab23",
   "metadata": {},
   "outputs": [
    {
     "data": {
      "image/png": "[encoded data removed]",
      "text/plain": [
       "<Figure size 1000x600 with 1 Axes>"
      ]
     },
     "metadata": {},
     "output_type": "display_data"
    }
   ],
   "source": [
    "\n",
    "    # Stacked Bar Chart in percentage\n",
    "\n",
    "data = {\n",
    "            \"No\":[\n",
    "            RobertCarlton['same day fulfilment'].value_counts()[0], \n",
    "            RoseannaMarr['same day fulfilment'].value_counts()[0],\n",
    "            GailJohnson['same day fulfilment'].value_counts()[0]\n",
    "            \n",
    "            ],\n",
    "            \"Yes\": [\n",
    "            RobertCarlton['same day fulfilment'].value_counts()[1], \n",
    "            RoseannaMarr['same day fulfilment'].value_counts()[1],\n",
    "            GailJohnson['same day fulfilment'].value_counts()[1]\n",
    "            ]\n",
    "        }\n",
    "\n",
    "\n",
    "index = [\"Mr Robert Carlton\", \"Miss Roseanna Marr\",\"Mrs Gail Johnson\"]\n",
    "\n",
    "the_da = pd.DataFrame(data, index=index)\n",
    "the_da_norm = the_da.div(the_da.sum(axis=1), axis=0)\n",
    "\n",
    "\n",
    "ax = the_da_norm.plot.bar(color=['#3333aa','#000055'], stacked=True, width=0.5, figsize=(10,6))\n",
    "ax.spines['top'].set_visible(False)\n",
    "ax.spines['right'].set_visible(False)\n",
    "ax.spines['bottom'].set_visible(True)\n",
    "ax.spines['left'].set_visible(True)\n",
    "\n",
    "plt.title(\"Percentage of Same Day fulfilled Orders by Sales Officers\")\n",
    "plt.xticks(rotation=0)\n",
    "\n",
    "ax.legend(bbox_to_anchor=(1, 1))\n",
    "\n",
    "    for container in ax.containers:\n",
    "        ax.bar_label(container, label_type=\"center\", color='white')"
   ]
  },
  {
   "cell_type": "code",
   "execution_count": 69,
   "id": "2c0c11d5",
   "metadata": {},
   "outputs": [],
   "source": [
    "df_customers = df.copy()"
   ]
  },
  {
   "cell_type": "code",
   "execution_count": 70,
   "id": "f44e569d",
   "metadata": {},
   "outputs": [
    {
     "data": {
      "text/html": [
       "<div>\n",
       "<style scoped>\n",
       "    .dataframe tbody tr th:only-of-type {\n",
       "        vertical-align: middle;\n",
       "    }\n",
       "\n",
       "    .dataframe tbody tr th {\n",
       "        vertical-align: top;\n",
       "    }\n",
       "\n",
       "    .dataframe thead th {\n",
       "        text-align: right;\n",
       "    }\n",
       "</style>\n",
       "<table border=\"1\" class=\"dataframe\">\n",
       "  <thead>\n",
       "    <tr style=\"text-align: right;\">\n",
       "      <th></th>\n",
       "      <th>Order</th>\n",
       "      <th>Customer</th>\n",
       "      <th>Sales Officer</th>\n",
       "      <th>Order Date</th>\n",
       "      <th>Shipping Date</th>\n",
       "      <th>Priority</th>\n",
       "      <th>SKU</th>\n",
       "      <th>Quantity</th>\n",
       "      <th>Unit Sell Price</th>\n",
       "      <th>Discount Percent</th>\n",
       "      <th>Shipping Cost</th>\n",
       "      <th>Shipment Mode</th>\n",
       "      <th>Container</th>\n",
       "      <th>Month name</th>\n",
       "      <th>quarters</th>\n",
       "    </tr>\n",
       "  </thead>\n",
       "  <tbody>\n",
       "    <tr>\n",
       "      <th>1</th>\n",
       "      <td>29030</td>\n",
       "      <td>C660</td>\n",
       "      <td>Mrs Gail Johnson</td>\n",
       "      <td>2020-01-01 00:00:00</td>\n",
       "      <td>2020-01-02 00:00:00</td>\n",
       "      <td>Medium</td>\n",
       "      <td>SKU814</td>\n",
       "      <td>10</td>\n",
       "      <td>19.84</td>\n",
       "      <td>0.05</td>\n",
       "      <td>4.1</td>\n",
       "      <td>Regular Air</td>\n",
       "      <td>Wrap Bag</td>\n",
       "      <td>January</td>\n",
       "      <td>1</td>\n",
       "    </tr>\n",
       "    <tr>\n",
       "      <th>2</th>\n",
       "      <td>47591</td>\n",
       "      <td>C198</td>\n",
       "      <td>Mr Robert Carlton</td>\n",
       "      <td>2020-01-01 00:00:00</td>\n",
       "      <td>2020-01-02 00:00:00</td>\n",
       "      <td>Critical</td>\n",
       "      <td>SKU957</td>\n",
       "      <td>27</td>\n",
       "      <td>10.48</td>\n",
       "      <td>0.1</td>\n",
       "      <td>6.91</td>\n",
       "      <td>Regular Air</td>\n",
       "      <td>Small Box</td>\n",
       "      <td>January</td>\n",
       "      <td>1</td>\n",
       "    </tr>\n",
       "    <tr>\n",
       "      <th>3</th>\n",
       "      <td>54214</td>\n",
       "      <td>C628</td>\n",
       "      <td>Mr Robert Carlton</td>\n",
       "      <td>2020-01-01 00:00:00</td>\n",
       "      <td>2020-01-04 00:00:00</td>\n",
       "      <td>Medium</td>\n",
       "      <td>SKU1076</td>\n",
       "      <td>38</td>\n",
       "      <td>199.99</td>\n",
       "      <td>0.04</td>\n",
       "      <td>24.49</td>\n",
       "      <td>Express Air</td>\n",
       "      <td>Large Box</td>\n",
       "      <td>January</td>\n",
       "      <td>1</td>\n",
       "    </tr>\n",
       "    <tr>\n",
       "      <th>4</th>\n",
       "      <td>10945</td>\n",
       "      <td>C623</td>\n",
       "      <td>Mr Robert Carlton</td>\n",
       "      <td>2020-01-02 00:00:00</td>\n",
       "      <td>2020-01-04 00:00:00</td>\n",
       "      <td>Medium</td>\n",
       "      <td>SKU1158</td>\n",
       "      <td>14</td>\n",
       "      <td>95.99</td>\n",
       "      <td>0.04</td>\n",
       "      <td>8.99</td>\n",
       "      <td>Regular Air</td>\n",
       "      <td>Small Box</td>\n",
       "      <td>January</td>\n",
       "      <td>1</td>\n",
       "    </tr>\n",
       "    <tr>\n",
       "      <th>5</th>\n",
       "      <td>50471</td>\n",
       "      <td>C219</td>\n",
       "      <td>Mr Robert Carlton</td>\n",
       "      <td>2020-01-02 00:00:00</td>\n",
       "      <td>2020-01-04 00:00:00</td>\n",
       "      <td>Low</td>\n",
       "      <td>SKU059</td>\n",
       "      <td>25</td>\n",
       "      <td>226.67</td>\n",
       "      <td>0.02</td>\n",
       "      <td>28.16</td>\n",
       "      <td>Delivery Truck</td>\n",
       "      <td>Jumbo Drum</td>\n",
       "      <td>January</td>\n",
       "      <td>1</td>\n",
       "    </tr>\n",
       "    <tr>\n",
       "      <th>...</th>\n",
       "      <td>...</td>\n",
       "      <td>...</td>\n",
       "      <td>...</td>\n",
       "      <td>...</td>\n",
       "      <td>...</td>\n",
       "      <td>...</td>\n",
       "      <td>...</td>\n",
       "      <td>...</td>\n",
       "      <td>...</td>\n",
       "      <td>...</td>\n",
       "      <td>...</td>\n",
       "      <td>...</td>\n",
       "      <td>...</td>\n",
       "      <td>...</td>\n",
       "      <td>...</td>\n",
       "    </tr>\n",
       "    <tr>\n",
       "      <th>2096</th>\n",
       "      <td>49344</td>\n",
       "      <td>C494</td>\n",
       "      <td>Mr Robert Carlton</td>\n",
       "      <td>2020-12-30 00:00:00</td>\n",
       "      <td>2020-12-30 00:00:00</td>\n",
       "      <td>Low</td>\n",
       "      <td>SKU979</td>\n",
       "      <td>31</td>\n",
       "      <td>19.98</td>\n",
       "      <td>0</td>\n",
       "      <td>4</td>\n",
       "      <td>Regular Air</td>\n",
       "      <td>Small Box</td>\n",
       "      <td>December</td>\n",
       "      <td>4</td>\n",
       "    </tr>\n",
       "    <tr>\n",
       "      <th>2097</th>\n",
       "      <td>49344</td>\n",
       "      <td>C494</td>\n",
       "      <td>Mr Robert Carlton</td>\n",
       "      <td>2020-12-30 00:00:00</td>\n",
       "      <td>2020-12-30 00:00:00</td>\n",
       "      <td>Low</td>\n",
       "      <td>SKU883</td>\n",
       "      <td>1</td>\n",
       "      <td>832.81</td>\n",
       "      <td>0.09</td>\n",
       "      <td>24.49</td>\n",
       "      <td>Regular Air</td>\n",
       "      <td>Medium Box</td>\n",
       "      <td>December</td>\n",
       "      <td>4</td>\n",
       "    </tr>\n",
       "    <tr>\n",
       "      <th>2098</th>\n",
       "      <td>47815</td>\n",
       "      <td>C377</td>\n",
       "      <td>Mrs Gail Johnson</td>\n",
       "      <td>2020-12-30 00:00:00</td>\n",
       "      <td>2020-12-30 00:00:00</td>\n",
       "      <td>Not Specified</td>\n",
       "      <td>SKU114</td>\n",
       "      <td>45</td>\n",
       "      <td>13.73</td>\n",
       "      <td>0.08</td>\n",
       "      <td>6.85</td>\n",
       "      <td>Regular Air</td>\n",
       "      <td>Wrap Bag</td>\n",
       "      <td>December</td>\n",
       "      <td>4</td>\n",
       "    </tr>\n",
       "    <tr>\n",
       "      <th>2099</th>\n",
       "      <td>50950</td>\n",
       "      <td>C768</td>\n",
       "      <td>Mrs Gail Johnson</td>\n",
       "      <td>2020-12-30 00:00:00</td>\n",
       "      <td>2020-12-30 00:00:00</td>\n",
       "      <td>Not Specified</td>\n",
       "      <td>SKU066</td>\n",
       "      <td>6</td>\n",
       "      <td>60.98</td>\n",
       "      <td>0.06</td>\n",
       "      <td>30</td>\n",
       "      <td>Delivery Truck</td>\n",
       "      <td>Jumbo Drum</td>\n",
       "      <td>December</td>\n",
       "      <td>4</td>\n",
       "    </tr>\n",
       "    <tr>\n",
       "      <th>2100</th>\n",
       "      <td>50950</td>\n",
       "      <td>C768</td>\n",
       "      <td>Mrs Gail Johnson</td>\n",
       "      <td>2020-12-30 00:00:00</td>\n",
       "      <td>2020-12-30 00:00:00</td>\n",
       "      <td>Not Specified</td>\n",
       "      <td>SKU961</td>\n",
       "      <td>35</td>\n",
       "      <td>13.48</td>\n",
       "      <td>0.1</td>\n",
       "      <td>4.51</td>\n",
       "      <td>Express Air</td>\n",
       "      <td>Small Box</td>\n",
       "      <td>December</td>\n",
       "      <td>4</td>\n",
       "    </tr>\n",
       "  </tbody>\n",
       "</table>\n",
       "<p>2090 rows × 15 columns</p>\n",
       "</div>"
      ],
      "text/plain": [
       "      Order Customer      Sales Officer           Order Date  \\\n",
       "1     29030     C660   Mrs Gail Johnson  2020-01-01 00:00:00   \n",
       "2     47591     C198  Mr Robert Carlton  2020-01-01 00:00:00   \n",
       "3     54214     C628  Mr Robert Carlton  2020-01-01 00:00:00   \n",
       "4     10945     C623  Mr Robert Carlton  2020-01-02 00:00:00   \n",
       "5     50471     C219  Mr Robert Carlton  2020-01-02 00:00:00   \n",
       "...     ...      ...                ...                  ...   \n",
       "2096  49344     C494  Mr Robert Carlton  2020-12-30 00:00:00   \n",
       "2097  49344     C494  Mr Robert Carlton  2020-12-30 00:00:00   \n",
       "2098  47815     C377   Mrs Gail Johnson  2020-12-30 00:00:00   \n",
       "2099  50950     C768   Mrs Gail Johnson  2020-12-30 00:00:00   \n",
       "2100  50950     C768   Mrs Gail Johnson  2020-12-30 00:00:00   \n",
       "\n",
       "            Shipping Date       Priority      SKU Quantity Unit Sell Price  \\\n",
       "1     2020-01-02 00:00:00         Medium   SKU814       10           19.84   \n",
       "2     2020-01-02 00:00:00       Critical   SKU957       27           10.48   \n",
       "3     2020-01-04 00:00:00         Medium  SKU1076       38          199.99   \n",
       "4     2020-01-04 00:00:00         Medium  SKU1158       14           95.99   \n",
       "5     2020-01-04 00:00:00            Low   SKU059       25          226.67   \n",
       "...                   ...            ...      ...      ...             ...   \n",
       "2096  2020-12-30 00:00:00            Low   SKU979       31           19.98   \n",
       "2097  2020-12-30 00:00:00            Low   SKU883        1          832.81   \n",
       "2098  2020-12-30 00:00:00  Not Specified   SKU114       45           13.73   \n",
       "2099  2020-12-30 00:00:00  Not Specified   SKU066        6           60.98   \n",
       "2100  2020-12-30 00:00:00  Not Specified   SKU961       35           13.48   \n",
       "\n",
       "     Discount Percent Shipping Cost    Shipment Mode    Container Month name  \\\n",
       "1                0.05           4.1     Regular Air      Wrap Bag    January   \n",
       "2                 0.1          6.91     Regular Air     Small Box    January   \n",
       "3                0.04         24.49     Express Air     Large Box    January   \n",
       "4                0.04          8.99     Regular Air     Small Box    January   \n",
       "5                0.02         28.16  Delivery Truck    Jumbo Drum    January   \n",
       "...               ...           ...              ...          ...        ...   \n",
       "2096                0             4     Regular Air     Small Box   December   \n",
       "2097             0.09         24.49     Regular Air    Medium Box   December   \n",
       "2098             0.08          6.85     Regular Air      Wrap Bag   December   \n",
       "2099             0.06            30  Delivery Truck    Jumbo Drum   December   \n",
       "2100              0.1          4.51     Express Air     Small Box   December   \n",
       "\n",
       "      quarters  \n",
       "1            1  \n",
       "2            1  \n",
       "3            1  \n",
       "4            1  \n",
       "5            1  \n",
       "...        ...  \n",
       "2096         4  \n",
       "2097         4  \n",
       "2098         4  \n",
       "2099         4  \n",
       "2100         4  \n",
       "\n",
       "[2090 rows x 15 columns]"
      ]
     },
     "execution_count": 70,
     "metadata": {},
     "output_type": "execute_result"
    }
   ],
   "source": [
    "df_customers"
   ]
  },
  {
   "cell_type": "markdown",
   "id": "88e84949",
   "metadata": {},
   "source": [
    "### 11. Top 10 biggest Customers by Revenue"
   ]
  },
  {
   "cell_type": "code",
   "execution_count": 71,
   "id": "39c6a1ec",
   "metadata": {},
   "outputs": [],
   "source": [
    "#Get the top 5 customers by revenue\n",
    "top5Cust_byRevenue = pd.DataFrame(df_customers.groupby(\"Customer\")['Unit Sell Price'].sum())"
   ]
  },
  {
   "cell_type": "code",
   "execution_count": 72,
   "id": "1ac87d71",
   "metadata": {},
   "outputs": [
    {
     "data": {
      "text/html": [
       "<div>\n",
       "<style scoped>\n",
       "    .dataframe tbody tr th:only-of-type {\n",
       "        vertical-align: middle;\n",
       "    }\n",
       "\n",
       "    .dataframe tbody tr th {\n",
       "        vertical-align: top;\n",
       "    }\n",
       "\n",
       "    .dataframe thead th {\n",
       "        text-align: right;\n",
       "    }\n",
       "</style>\n",
       "<table border=\"1\" class=\"dataframe\">\n",
       "  <thead>\n",
       "    <tr style=\"text-align: right;\">\n",
       "      <th></th>\n",
       "      <th>Unit Sell Price</th>\n",
       "    </tr>\n",
       "    <tr>\n",
       "      <th>Customer</th>\n",
       "      <th></th>\n",
       "    </tr>\n",
       "  </thead>\n",
       "  <tbody>\n",
       "    <tr>\n",
       "      <th>C179</th>\n",
       "      <td>6783.02</td>\n",
       "    </tr>\n",
       "    <tr>\n",
       "      <th>C409</th>\n",
       "      <td>5136.25</td>\n",
       "    </tr>\n",
       "    <tr>\n",
       "      <th>C171</th>\n",
       "      <td>3973.51</td>\n",
       "    </tr>\n",
       "    <tr>\n",
       "      <th>C226</th>\n",
       "      <td>3859.94</td>\n",
       "    </tr>\n",
       "    <tr>\n",
       "      <th>C189</th>\n",
       "      <td>3535.4</td>\n",
       "    </tr>\n",
       "  </tbody>\n",
       "</table>\n",
       "</div>"
      ],
      "text/plain": [
       "         Unit Sell Price\n",
       "Customer                \n",
       "C179             6783.02\n",
       "C409             5136.25\n",
       "C171             3973.51\n",
       "C226             3859.94\n",
       "C189              3535.4"
      ]
     },
     "execution_count": 72,
     "metadata": {},
     "output_type": "execute_result"
    }
   ],
   "source": [
    "# List of 5 top customers by revenue\n",
    "top5Cust_byRevenue.sort_values(ascending=False, by=\"Unit Sell Price\").head(5)"
   ]
  },
  {
   "cell_type": "code",
   "execution_count": 78,
   "id": "17673e11",
   "metadata": {},
   "outputs": [
    {
     "data": {
      "text/plain": [
       "Unit Sell Price    23288.12\n",
       "dtype: object"
      ]
     },
     "execution_count": 78,
     "metadata": {},
     "output_type": "execute_result"
    }
   ],
   "source": [
    "# Sum of revenue from top 10 customers\n",
    "top5Cust_sum = top5Cust_byRevenue.sort_values(ascending=False, by=\"Unit Sell Price\").head(5).sum()\n",
    "top5Cust_sum"
   ]
  },
  {
   "cell_type": "code",
   "execution_count": 81,
   "id": "989fa426",
   "metadata": {},
   "outputs": [
    {
     "data": {
      "text/plain": [
       "Unit Sell Price    4657.624\n",
       "dtype: float64"
      ]
     },
     "execution_count": 81,
     "metadata": {},
     "output_type": "execute_result"
    }
   ],
   "source": [
    "Avg_rev_top5Cust_byRevenue = top5Cust_byRevenue.sort_values(ascending=False, by=\"Unit Sell Price\").head(5).mean()\n",
    "Avg_rev_top5Cust_byRevenue"
   ]
  },
  {
   "cell_type": "code",
   "execution_count": 82,
   "id": "0d96ce6c",
   "metadata": {},
   "outputs": [
    {
     "data": {
      "text/plain": [
       "Unit Sell Price    11.949035\n",
       "dtype: object"
      ]
     },
     "execution_count": 82,
     "metadata": {},
     "output_type": "execute_result"
    }
   ],
   "source": [
    "# Percentage of revenue from top 10 customers to total revenue\n",
    "percentage_of_total_rev = (top5Cust_sum/df[\"Unit Sell Price\"].sum())*100\n",
    "percentage_of_total_rev"
   ]
  },
  {
   "cell_type": "markdown",
   "id": "738c3f51",
   "metadata": {},
   "source": [
    "### 12. Top 10 biggest Customers by Volume purchased"
   ]
  },
  {
   "cell_type": "code",
   "execution_count": 83,
   "id": "de5ba09d",
   "metadata": {},
   "outputs": [],
   "source": [
    "#Get the top 10 customers by Quantity\n",
    "top5Cust_byQuantity = pd.DataFrame(df_customers.groupby(\"Customer\")['Quantity'].sum())"
   ]
  },
  {
   "cell_type": "code",
   "execution_count": 84,
   "id": "c6b45a1e",
   "metadata": {},
   "outputs": [
    {
     "data": {
      "text/html": [
       "<div>\n",
       "<style scoped>\n",
       "    .dataframe tbody tr th:only-of-type {\n",
       "        vertical-align: middle;\n",
       "    }\n",
       "\n",
       "    .dataframe tbody tr th {\n",
       "        vertical-align: top;\n",
       "    }\n",
       "\n",
       "    .dataframe thead th {\n",
       "        text-align: right;\n",
       "    }\n",
       "</style>\n",
       "<table border=\"1\" class=\"dataframe\">\n",
       "  <thead>\n",
       "    <tr style=\"text-align: right;\">\n",
       "      <th></th>\n",
       "      <th>Quantity</th>\n",
       "    </tr>\n",
       "    <tr>\n",
       "      <th>Customer</th>\n",
       "      <th></th>\n",
       "    </tr>\n",
       "  </thead>\n",
       "  <tbody>\n",
       "    <tr>\n",
       "      <th>C248</th>\n",
       "      <td>476</td>\n",
       "    </tr>\n",
       "    <tr>\n",
       "      <th>C014</th>\n",
       "      <td>373</td>\n",
       "    </tr>\n",
       "    <tr>\n",
       "      <th>C199</th>\n",
       "      <td>365</td>\n",
       "    </tr>\n",
       "    <tr>\n",
       "      <th>C769</th>\n",
       "      <td>331</td>\n",
       "    </tr>\n",
       "    <tr>\n",
       "      <th>C571</th>\n",
       "      <td>318</td>\n",
       "    </tr>\n",
       "  </tbody>\n",
       "</table>\n",
       "</div>"
      ],
      "text/plain": [
       "         Quantity\n",
       "Customer         \n",
       "C248          476\n",
       "C014          373\n",
       "C199          365\n",
       "C769          331\n",
       "C571          318"
      ]
     },
     "execution_count": 84,
     "metadata": {},
     "output_type": "execute_result"
    }
   ],
   "source": [
    "# List of the top 5 Customers by quantity\n",
    "\n",
    "top5Cust_byQuantity.sort_values(ascending=False, by=\"Quantity\").head(5)"
   ]
  },
  {
   "cell_type": "markdown",
   "id": "00453ff2",
   "metadata": {},
   "source": [
    "### 13. Percentage Revenue use for shiping"
   ]
  },
  {
   "cell_type": "code",
   "execution_count": 101,
   "id": "06a77ba6",
   "metadata": {},
   "outputs": [],
   "source": [
    "# make a copy of the df_shipping dataframe\n",
    "df_shipping = df.copy()"
   ]
  },
  {
   "cell_type": "code",
   "execution_count": 102,
   "id": "234144c2",
   "metadata": {},
   "outputs": [
    {
     "data": {
      "text/plain": [
       "27025.12"
      ]
     },
     "execution_count": 102,
     "metadata": {},
     "output_type": "execute_result"
    }
   ],
   "source": [
    "round(df_shipping[\"Shipping Cost\"].sum(), 2)"
   ]
  },
  {
   "cell_type": "code",
   "execution_count": 87,
   "id": "9c968b57",
   "metadata": {},
   "outputs": [
    {
     "data": {
      "text/plain": [
       "13.866474016318497"
      ]
     },
     "execution_count": 87,
     "metadata": {},
     "output_type": "execute_result"
    }
   ],
   "source": [
    "# Percentage of revenue spent on shipping\n",
    "ShippingCost_Percentage =  (round(df_shipping[\"Shipping Cost\"].sum(), 2) /round(df_shipping[\"Unit Sell Price\"].sum(), 2))*100\n",
    "ShippingCost_Percentage"
   ]
  },
  {
   "cell_type": "markdown",
   "id": "cc4a7b21",
   "metadata": {},
   "source": [
    "The company spent 13.87% of its annual revenue on Shipping costs"
   ]
  },
  {
   "cell_type": "markdown",
   "id": "98bdd43b",
   "metadata": {},
   "source": [
    "### 14.Shipping Cost per month"
   ]
  },
  {
   "cell_type": "code",
   "execution_count": 88,
   "id": "91fdab48",
   "metadata": {},
   "outputs": [
    {
     "data": {
      "text/html": [
       "<div>\n",
       "<style scoped>\n",
       "    .dataframe tbody tr th:only-of-type {\n",
       "        vertical-align: middle;\n",
       "    }\n",
       "\n",
       "    .dataframe tbody tr th {\n",
       "        vertical-align: top;\n",
       "    }\n",
       "\n",
       "    .dataframe thead th {\n",
       "        text-align: right;\n",
       "    }\n",
       "</style>\n",
       "<table border=\"1\" class=\"dataframe\">\n",
       "  <thead>\n",
       "    <tr style=\"text-align: right;\">\n",
       "      <th></th>\n",
       "      <th>Shipping Cost</th>\n",
       "    </tr>\n",
       "    <tr>\n",
       "      <th>Month name</th>\n",
       "      <th></th>\n",
       "    </tr>\n",
       "  </thead>\n",
       "  <tbody>\n",
       "    <tr>\n",
       "      <th>December</th>\n",
       "      <td>2434.83</td>\n",
       "    </tr>\n",
       "    <tr>\n",
       "      <th>November</th>\n",
       "      <td>1764.17</td>\n",
       "    </tr>\n",
       "    <tr>\n",
       "      <th>October</th>\n",
       "      <td>2549.06</td>\n",
       "    </tr>\n",
       "    <tr>\n",
       "      <th>September</th>\n",
       "      <td>2407.05</td>\n",
       "    </tr>\n",
       "    <tr>\n",
       "      <th>August</th>\n",
       "      <td>2365.7</td>\n",
       "    </tr>\n",
       "    <tr>\n",
       "      <th>July</th>\n",
       "      <td>2203.97</td>\n",
       "    </tr>\n",
       "    <tr>\n",
       "      <th>June</th>\n",
       "      <td>2129.35</td>\n",
       "    </tr>\n",
       "    <tr>\n",
       "      <th>May</th>\n",
       "      <td>2578.59</td>\n",
       "    </tr>\n",
       "    <tr>\n",
       "      <th>April</th>\n",
       "      <td>2084.25</td>\n",
       "    </tr>\n",
       "    <tr>\n",
       "      <th>March</th>\n",
       "      <td>2438.53</td>\n",
       "    </tr>\n",
       "    <tr>\n",
       "      <th>February</th>\n",
       "      <td>1834.03</td>\n",
       "    </tr>\n",
       "    <tr>\n",
       "      <th>January</th>\n",
       "      <td>2235.59</td>\n",
       "    </tr>\n",
       "  </tbody>\n",
       "</table>\n",
       "</div>"
      ],
      "text/plain": [
       "           Shipping Cost\n",
       "Month name              \n",
       "December         2434.83\n",
       "November         1764.17\n",
       "October          2549.06\n",
       "September        2407.05\n",
       "August            2365.7\n",
       "July             2203.97\n",
       "June             2129.35\n",
       "May              2578.59\n",
       "April            2084.25\n",
       "March            2438.53\n",
       "February         1834.03\n",
       "January          2235.59"
      ]
     },
     "execution_count": 88,
     "metadata": {},
     "output_type": "execute_result"
    }
   ],
   "source": [
    "\n",
    "monthly_ShippingCost = pd.DataFrame(df_shipping.groupby('Month name')[\"Shipping Cost\"].sum())\n",
    "# monthly_ShippingCost = monthly_ShippingCost.reset_index()\n",
    "#.sort_index(ascending=False)\n",
    "monthly_ShippingCost"
   ]
  },
  {
   "cell_type": "code",
   "execution_count": 140,
   "id": "8d252888",
   "metadata": {
    "scrolled": true
   },
   "outputs": [
    {
     "data": {
      "text/plain": [
       "Month name\n",
       "December     0.122746\n",
       "November     0.108635\n",
       "October      0.122237\n",
       "September    0.172731\n",
       "August        0.15457\n",
       "July         0.187431\n",
       "June         0.177795\n",
       "May          0.115935\n",
       "April        0.123254\n",
       "March        0.129498\n",
       "February     0.172246\n",
       "January      0.136648\n",
       "dtype: object"
      ]
     },
     "execution_count": 140,
     "metadata": {},
     "output_type": "execute_result"
    }
   ],
   "source": [
    "shipping_MonthlyPercent = df_shipping.groupby('Month name')['Shipping Cost'].sum()/df_shipping.groupby('Month name')['Unit Sell Price'].sum()\n",
    "shipping_MonthlyPercent\n"
   ]
  },
  {
   "cell_type": "code",
   "execution_count": 178,
   "id": "87b81424",
   "metadata": {},
   "outputs": [
    {
     "data": {
      "text/plain": [
       "14.364377453954361"
      ]
     },
     "execution_count": 178,
     "metadata": {},
     "output_type": "execute_result"
    }
   ],
   "source": [
    "Monthly_AvgMonthly_Percent = shipping_MonthlyPercent.mean()\n",
    "Monthly_AvgMonthly_Percent * 100"
   ]
  },
  {
   "cell_type": "code",
   "execution_count": 186,
   "id": "d6c6712f",
   "metadata": {},
   "outputs": [
    {
     "data": {
      "image/png": "[encoded data removed]",
      "text/plain": [
       "<Figure size 640x480 with 1 Axes>"
      ]
     },
     "metadata": {},
     "output_type": "display_data"
    }
   ],
   "source": [
    "ax = shipping_MonthlyPercent.plot(yticks=[0.0, 0.03, 0.06, 0.09,0.12, 0.15,0.18,0.21], marker='o')\n",
    "\n",
    "ax.spines[\"top\"].set_visible(False)\n",
    "ax.spines[\"right\"].set_visible(False)\n",
    "plt.xlabel(\"\")\n",
    " \n",
    "plt.title(\"Trend of monthly Percentage \\n Revenue spent on Shipping\", fontsize=14, color=\"#000055\")\n",
    "\n",
    "plt.xticks([0,1,2,3,4,5,6,7,8,9,10,11],['Jan','Feb','Mar','Apr','May','June','July','Aug','Sept','Oct','Nov','Dec'])\n",
    "\n",
    "plt.show()"
   ]
  },
  {
   "cell_type": "code",
   "execution_count": null,
   "id": "29f50fa2",
   "metadata": {},
   "outputs": [],
   "source": []
  },
  {
   "cell_type": "code",
   "execution_count": 129,
   "id": "e781efbe",
   "metadata": {},
   "outputs": [
    {
     "data": {
      "text/plain": [
       "2252.093333333333"
      ]
     },
     "execution_count": 129,
     "metadata": {},
     "output_type": "execute_result"
    }
   ],
   "source": [
    "Total_AvgShippingCost = (df_shipping.groupby('Month name')[\"Shipping Cost\"].sum()).mean()\n",
    "Total_AvgShippingCost"
   ]
  },
  {
   "cell_type": "code",
   "execution_count": 170,
   "id": "6b828e9f",
   "metadata": {
    "scrolled": true
   },
   "outputs": [
    {
     "data": {
      "text/plain": [
       "Month name\n",
       "January      2235.59\n",
       "February     1834.03\n",
       "March        2438.53\n",
       "April        2084.25\n",
       "May          2578.59\n",
       "June         2129.35\n",
       "July         2203.97\n",
       "August       2365.70\n",
       "September    2407.05\n",
       "October      2549.06\n",
       "November     1764.17\n",
       "December     2434.83\n",
       "Name: Shipping Cost, dtype: float64"
      ]
     },
     "execution_count": 170,
     "metadata": {},
     "output_type": "execute_result"
    }
   ],
   "source": [
    "\n",
    "monthly_ShippingCost = df_shipping.groupby('Month name')[\"Shipping Cost\"].sum().apply(lambda x: round(x,2)).sort_index(ascending=False)\n",
    "monthly_ShippingCost"
   ]
  },
  {
   "cell_type": "code",
   "execution_count": 91,
   "id": "92f819f9",
   "metadata": {
    "scrolled": true
   },
   "outputs": [
    {
     "data": {
      "text/plain": [
       "0       January\n",
       "1      February\n",
       "2         March\n",
       "3         April\n",
       "4           May\n",
       "5          June\n",
       "6          July\n",
       "7        August\n",
       "8     September\n",
       "9       October\n",
       "10     November\n",
       "11     December\n",
       "Name: month, dtype: object"
      ]
     },
     "execution_count": 91,
     "metadata": {},
     "output_type": "execute_result"
    }
   ],
   "source": [
    "months = ['January','February', 'March','April','May','June','July','August','September','October','November','December']\n",
    "\n",
    "data = {'month':months, 'averages':monthly_AvgShippingCost}\n",
    "\n",
    "dfdd = pd.DataFrame(data)\n",
    "dfdd = dfdd.reset_index()\n",
    "\n",
    "\n",
    "dfdd['month']"
   ]
  },
  {
   "cell_type": "code",
   "execution_count": 179,
   "id": "6686d860",
   "metadata": {
    "scrolled": true
   },
   "outputs": [
    {
     "data": {
      "image/png": "[encoded data removed]",
      "text/plain": [
       "<Figure size 640x480 with 1 Axes>"
      ]
     },
     "metadata": {},
     "output_type": "display_data"
    }
   ],
   "source": [
    "\n",
    "ax = monthly_ShippingCost.plot(x='Month name', y='Shipping Cost', marker='o', yticks=[0,500,1000,1500,2000,2500,3000])\n",
    "\n",
    "plt.xticks([0,1,2,3,4,5,6,7,8,9,10,11],['Jan','Feb','Mar','April','May','June','July','Aug','Sept','Oct','Nov','Dec'])\n",
    "\n",
    "ax.spines[\"top\"].set_visible(False)\n",
    "ax.spines[\"right\"].set_visible(False)\n",
    "\n",
    "plt.xlabel(\"\")\n",
    "\n",
    "plt.title(\"Monthly Cost of Shipping\", fontsize=15, color=\"#000055\")\n",
    "\n",
    "plt.show()"
   ]
  },
  {
   "cell_type": "code",
   "execution_count": null,
   "id": "6b397402",
   "metadata": {},
   "outputs": [],
   "source": []
  },
  {
   "cell_type": "markdown",
   "id": "e9f778e6",
   "metadata": {},
   "source": [
    "### 15. Shipment Mode Cost Analysis"
   ]
  },
  {
   "cell_type": "code",
   "execution_count": 191,
   "id": "441f2b2c",
   "metadata": {},
   "outputs": [
    {
     "data": {
      "text/plain": [
       "Shipment Mode\n",
       "Delivery Truck     45.463437\n",
       "Express Air         8.059749\n",
       "Regular Air         7.690430\n",
       "Name: Shipping Cost, dtype: float64"
      ]
     },
     "execution_count": 191,
     "metadata": {},
     "output_type": "execute_result"
    }
   ],
   "source": [
    "df_ShippingCostAvg_perMode = df_shipping.groupby('Shipment Mode')['Shipping Cost'].mean()\n",
    "df_ShippingCostAvg_perMode "
   ]
  },
  {
   "cell_type": "code",
   "execution_count": 192,
   "id": "f48ef76b",
   "metadata": {},
   "outputs": [
    {
     "data": {
      "text/plain": [
       "Shipment Mode\n",
       "Delivery Truck     13093.47\n",
       "Express Air         1603.89\n",
       "Regular Air        12327.76\n",
       "Name: Shipping Cost, dtype: object"
      ]
     },
     "execution_count": 192,
     "metadata": {},
     "output_type": "execute_result"
    }
   ],
   "source": [
    "df_ShippingCostSum_perMode  = df_shipping.groupby('Shipment Mode')['Shipping Cost'].sum()\n",
    "df_ShippingCostSum_perMode"
   ]
  },
  {
   "cell_type": "code",
   "execution_count": 193,
   "id": "56c7e56f",
   "metadata": {},
   "outputs": [
    {
     "data": {
      "text/plain": [
       "Shipment Mode\n",
       "Delivery Truck      7150\n",
       "Express Air         5473\n",
       "Regular Air        41460\n",
       "Name: Quantity, dtype: object"
      ]
     },
     "execution_count": 193,
     "metadata": {},
     "output_type": "execute_result"
    }
   ],
   "source": [
    "df_QuantitySum_perMode = df_shipping.groupby('Shipment Mode')['Quantity'].sum()\n",
    "df_QuantitySum_perMode"
   ]
  },
  {
   "cell_type": "code",
   "execution_count": 195,
   "id": "6729a24a",
   "metadata": {},
   "outputs": [
    {
     "data": {
      "text/html": [
       "<div>\n",
       "<style scoped>\n",
       "    .dataframe tbody tr th:only-of-type {\n",
       "        vertical-align: middle;\n",
       "    }\n",
       "\n",
       "    .dataframe tbody tr th {\n",
       "        vertical-align: top;\n",
       "    }\n",
       "\n",
       "    .dataframe thead th {\n",
       "        text-align: right;\n",
       "    }\n",
       "</style>\n",
       "<table border=\"1\" class=\"dataframe\">\n",
       "  <thead>\n",
       "    <tr style=\"text-align: right;\">\n",
       "      <th></th>\n",
       "      <th>Quantity Shipped</th>\n",
       "      <th>Shipping Cost</th>\n",
       "    </tr>\n",
       "    <tr>\n",
       "      <th>Shipment Mode</th>\n",
       "      <th></th>\n",
       "      <th></th>\n",
       "    </tr>\n",
       "  </thead>\n",
       "  <tbody>\n",
       "    <tr>\n",
       "      <th>Delivery Truck</th>\n",
       "      <td>7150</td>\n",
       "      <td>13093.47</td>\n",
       "    </tr>\n",
       "    <tr>\n",
       "      <th>Express Air</th>\n",
       "      <td>5473</td>\n",
       "      <td>1603.89</td>\n",
       "    </tr>\n",
       "    <tr>\n",
       "      <th>Regular Air</th>\n",
       "      <td>41460</td>\n",
       "      <td>12327.76</td>\n",
       "    </tr>\n",
       "  </tbody>\n",
       "</table>\n",
       "</div>"
      ],
      "text/plain": [
       "                Quantity Shipped Shipping Cost\n",
       "Shipment Mode                                 \n",
       "Delivery Truck              7150      13093.47\n",
       "Express Air                 5473       1603.89\n",
       "Regular Air                41460      12327.76"
      ]
     },
     "execution_count": 195,
     "metadata": {},
     "output_type": "execute_result"
    }
   ],
   "source": [
    "data = {'Quantity Shipped': df_QuantitySum_perMode, 'Shipping Cost': df_ShippingCostSum_perMode}\n",
    "\n",
    "df_ShippingCost_perMode = pd.DataFrame(data)\n",
    "df_ShippingCost_perMode"
   ]
  },
  {
   "cell_type": "code",
   "execution_count": 206,
   "id": "bff69d49",
   "metadata": {},
   "outputs": [
    {
     "data": {
      "image/png": "[encoded data removed]",
      "text/plain": [
       "<Figure size 640x480 with 1 Axes>"
      ]
     },
     "metadata": {},
     "output_type": "display_data"
    }
   ],
   "source": [
    "ax = df_ShippingCost_perMode.plot(kind='bar', color=[\"#000055\",\"#3333ff\"], width=0.8, yticks=[10000,20000,30000,40000,50000])\n",
    "\n",
    "plt.xlabel(\" \")\n",
    "plt.xticks(rotation=0)\n",
    "\n",
    "plt.title(\"Comparison between Shipping Cost and \\n Quantity  Shipped per Shipping Mode\", fontsize=15, color='#000055')\n",
    "ax.spines[\"top\"].set_visible(False)\n",
    "ax.spines[\"right\"].set_visible(False)\n",
    "\n",
    "ax.legend(loc=\"center\", bbox_to_anchor=(0.2,0.8))\n",
    "\n",
    "for container in ax.containers:\n",
    "    ax.bar_label(container, label_type=\"center\", color=\"white\")\n"
   ]
  },
  {
   "cell_type": "code",
   "execution_count": null,
   "id": "904802b8",
   "metadata": {},
   "outputs": [],
   "source": []
  },
  {
   "cell_type": "code",
   "execution_count": 211,
   "id": "8f4e9667",
   "metadata": {
    "scrolled": true
   },
   "outputs": [
    {
     "data": {
      "image/png": "[encoded data removed]",
      "text/plain": [
       "<Figure size 640x480 with 1 Axes>"
      ]
     },
     "metadata": {},
     "output_type": "display_data"
    }
   ],
   "source": [
    "ax = df_ShippingCostAvg.plot(kind='bar', color=[\"#000055\",\"#3333ff\", \"#3333ff\"], width=0.8, yticks=[0,10,20,30,40,50])\n",
    "\n",
    "plt.xlabel(\" \")\n",
    "plt.xticks(rotation=0)\n",
    "\n",
    "plt.title(\"Average Cost of shipping one \\n item per Shiping Mode\", fontsize=15, color='#000055')\n",
    "ax.spines[\"top\"].set_visible(False)\n",
    "ax.spines[\"right\"].set_visible(False)\n",
    "\n",
    "\n",
    "\n",
    "for container in ax.containers:\n",
    "    ax.bar_label(container, label_type=\"center\", color=\"white\")\n"
   ]
  },
  {
   "cell_type": "markdown",
   "id": "e8e016eb",
   "metadata": {},
   "source": [
    "The above bar chart shows the amount spent throught the year in shipping goods to customers through the different Shipping modes. Shipping through Delivery truck cost the company S13,093 to ship 7,150 Units of goods. It cost the company S1,603 to Ship 5,473 units of goods via the Express Air route. Regular Air route cost  S12,374 to ship 41,460 units of goods.\n",
    "\n",
    "On an average it cost S45.47 to ship each item of goods, while it cost S8.06 and S7.69 to ship each item of goods via the Express Air and Regular Air route."
   ]
  },
  {
   "cell_type": "code",
   "execution_count": null,
   "id": "da72ac8e",
   "metadata": {},
   "outputs": [],
   "source": []
  }
 ],
 "metadata": {
  "kernelspec": {
   "display_name": "Python 3 (ipykernel)",
   "language": "python",
   "name": "python3"
  },
  "language_info": {
   "codemirror_mode": {
    "name": "ipython",
    "version": 3
   },
   "file_extension": ".py",
   "mimetype": "text/x-python",
   "name": "python",
   "nbconvert_exporter": "python",
   "pygments_lexer": "ipython3",
   "version": "3.9.13"
  }
 },
 "nbformat": 4,
 "nbformat_minor": 5
}
